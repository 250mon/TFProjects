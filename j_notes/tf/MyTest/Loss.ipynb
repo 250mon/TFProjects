{
 "cells": [
  {
   "cell_type": "code",
   "execution_count": 19,
   "id": "8f5d160c-f369-462d-aae9-df4902556839",
   "metadata": {},
   "outputs": [],
   "source": [
    "import tensorflow as tf\n",
    "from tensorflow import keras\n",
    "import numpy as np\n",
    "np.set_printoptions(precision=4)"
   ]
  },
  {
   "cell_type": "markdown",
   "id": "b64ac49b-b0aa-4b5e-b2a8-b17daf4acce5",
   "metadata": {},
   "source": [
    "## `SparseCategoricalCrossentropy()`"
   ]
  },
  {
   "cell_type": "code",
   "execution_count": 24,
   "id": "c5896f45-e411-413c-aefc-753bf61b56bd",
   "metadata": {},
   "outputs": [
    {
     "data": {
      "text/plain": [
       "<tf.Tensor: shape=(), dtype=float32, numpy=1.1769392>"
      ]
     },
     "execution_count": 24,
     "metadata": {},
     "output_type": "execute_result"
    }
   ],
   "source": [
    "y_true = np.array([1, 2])\n",
    "y_pred = np.array([[0.05, 0.95, 0], [0.1, 0.8, 0.1]])\n",
    "# Using 'auto'/'sum_over_batch_size' reduction type.\n",
    "scce = keras.losses.SparseCategoricalCrossentropy()\n",
    "scce(y_true, y_pred)\n"
   ]
  },
  {
   "cell_type": "code",
   "execution_count": 31,
   "id": "3731e560-5d15-4c19-aa40-a62c3fb4a254",
   "metadata": {},
   "outputs": [
    {
     "data": {
      "text/plain": [
       "<tf.Tensor: shape=(), dtype=float32, numpy=1.1769392>"
      ]
     },
     "execution_count": 31,
     "metadata": {},
     "output_type": "execute_result"
    }
   ],
   "source": [
    "y_true = tf.constant([1, 2])\n",
    "y_pred = tf.constant([[0.05, 0.95, 0], [0.1, 0.8, 0.1]])\n",
    "# Using 'auto'/'sum_over_batch_size' reduction type.\n",
    "scce = keras.losses.SparseCategoricalCrossentropy()\n",
    "scce(y_true, y_pred)\n"
   ]
  },
  {
   "cell_type": "code",
   "execution_count": 23,
   "id": "8fec32bf-1cb5-4abb-884b-201e6526fc75",
   "metadata": {},
   "outputs": [
    {
     "data": {
      "text/plain": [
       "<tf.Tensor: shape=(), dtype=float32, numpy=0.8135988>"
      ]
     },
     "execution_count": 23,
     "metadata": {},
     "output_type": "execute_result"
    }
   ],
   "source": [
    "# Calling with 'sample_weight'.\n",
    "scce(y_true, y_pred, sample_weight=np.array([0.3, 0.7]))\n"
   ]
  },
  {
   "cell_type": "code",
   "execution_count": 25,
   "id": "3366c4db-885b-478a-a9f6-9036cfb742ec",
   "metadata": {},
   "outputs": [
    {
     "data": {
      "text/plain": [
       "<tf.Tensor: shape=(), dtype=float32, numpy=2.3538785>"
      ]
     },
     "execution_count": 25,
     "metadata": {},
     "output_type": "execute_result"
    }
   ],
   "source": [
    "# Using 'sum' reduction type.\n",
    "scce = keras.losses.SparseCategoricalCrossentropy(\n",
    "    reduction=\"sum\")\n",
    "scce(y_true, y_pred)\n"
   ]
  },
  {
   "cell_type": "code",
   "execution_count": 26,
   "id": "dcf751f0-0e6d-4dc8-a8d3-bfd942351bf1",
   "metadata": {},
   "outputs": [
    {
     "data": {
      "text/plain": [
       "<tf.Tensor: shape=(2,), dtype=float32, numpy=array([0.0513, 2.3026], dtype=float32)>"
      ]
     },
     "execution_count": 26,
     "metadata": {},
     "output_type": "execute_result"
    }
   ],
   "source": [
    "# Using 'none' reduction type.\n",
    "scce = keras.losses.SparseCategoricalCrossentropy(\n",
    "    reduction=None)\n",
    "scce(y_true, y_pred)\n"
   ]
  },
  {
   "cell_type": "markdown",
   "id": "5a1ca21a-ded3-479c-9ef3-d3bca2ee1106",
   "metadata": {},
   "source": [
    "---"
   ]
  },
  {
   "cell_type": "markdown",
   "id": "abcdf4a7-6000-4fec-a48e-df785afbe973",
   "metadata": {},
   "source": [
    "## `CategoricalCrossentropy()`"
   ]
  },
  {
   "cell_type": "code",
   "execution_count": 51,
   "id": "7e61d8d3-8685-449c-bed8-397ed4e5b0f1",
   "metadata": {},
   "outputs": [
    {
     "data": {
      "text/plain": [
       "<tf.Tensor: shape=(), dtype=float32, numpy=0.5889537>"
      ]
     },
     "execution_count": 51,
     "metadata": {},
     "output_type": "execute_result"
    }
   ],
   "source": [
    "target = np.array([[1., 0., 0.], [0., 1., 0.], [0., 0., 1.]])\n",
    "output = np.array([[1., 0., 0.], [.05, .89, .06], [.05, .01, .94]])\n",
    "loss = scce = keras.losses.CategoricalCrossentropy(from_logits=True)\n",
    "loss(target, output)"
   ]
  },
  {
   "cell_type": "code",
   "execution_count": 52,
   "id": "4eb7e40b-db52-4754-9995-4ed3b9992463",
   "metadata": {},
   "outputs": [
    {
     "data": {
      "text/plain": [
       "<tf.Tensor: shape=(), dtype=float32, numpy=0.059469786>"
      ]
     },
     "execution_count": 52,
     "metadata": {},
     "output_type": "execute_result"
    }
   ],
   "source": [
    "target = np.array([[1., 0., 0.], [0., 1., 0.], [0., 0., 1.]])\n",
    "output = np.array([[1., 0., 0.], [.05, .89, .06], [.05, .01, .94]])\n",
    "loss = scce = keras.losses.CategoricalCrossentropy()\n",
    "loss(target, output)"
   ]
  },
  {
   "cell_type": "code",
   "execution_count": null,
   "id": "e7a381ff-4c25-43df-9590-c7c2c5322fa5",
   "metadata": {},
   "outputs": [],
   "source": []
  }
 ],
 "metadata": {
  "kernelspec": {
   "display_name": "Python 3 (ipykernel)",
   "language": "python",
   "name": "python3"
  },
  "language_info": {
   "codemirror_mode": {
    "name": "ipython",
    "version": 3
   },
   "file_extension": ".py",
   "mimetype": "text/x-python",
   "name": "python",
   "nbconvert_exporter": "python",
   "pygments_lexer": "ipython3",
   "version": "3.11.0rc1"
  }
 },
 "nbformat": 4,
 "nbformat_minor": 5
}
