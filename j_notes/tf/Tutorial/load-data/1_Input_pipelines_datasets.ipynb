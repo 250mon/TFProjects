{
 "cells": [
  {
   "cell_type": "code",
   "execution_count": 1,
   "id": "85e3ce6d-eec8-4a55-9ce9-3803499e59a9",
   "metadata": {},
   "outputs": [
    {
     "name": "stderr",
     "output_type": "stream",
     "text": [
      "2024-04-24 07:31:29.327307: I tensorflow/core/platform/cpu_feature_guard.cc:210] This TensorFlow binary is optimized to use available CPU instructions in performance-critical operations.\n",
      "To enable the following instructions: AVX2 AVX512F AVX512_VNNI FMA, in other operations, rebuild TensorFlow with the appropriate compiler flags.\n"
     ]
    }
   ],
   "source": [
    "import tensorflow as tf\n",
    "import pathlib\n",
    "import os\n",
    "import matplotlib.pyplot as plt\n",
    "import pandas as pd\n",
    "import numpy as np\n",
    "np.set_printoptions(precision=4)"
   ]
  },
  {
   "cell_type": "markdown",
   "id": "043ff29a-1edd-43eb-b48f-1ee1b4fce886",
   "metadata": {},
   "source": [
    "## Basic mechanics\n",
    "\n",
    "* [`tf.data.Dataset.from_tensors()`](https://www.tensorflow.org/api_docs/python/tf/data/Dataset#from_tensors)\n",
    "* [`tf.data.Dataset.from_tensor_slices()`](https://www.tensorflow.org/api_docs/python/tf/data/Dataset#from_tensor_slices)\n",
    "* [`tf.data.TFRecordDataset()`](https://www.tensorflow.org/api_docs/python/tf/data/TFRecordDataset): Alternatively, if your input data is stored in a file in the recommended TFRecord format, you can use \n"
   ]
  },
  {
   "cell_type": "code",
   "execution_count": 2,
   "id": "6b7080bb-5f4c-4b16-bf1e-075f5c94f644",
   "metadata": {},
   "outputs": [
    {
     "name": "stderr",
     "output_type": "stream",
     "text": [
      "2024-04-24 07:31:30.552575: E external/local_xla/xla/stream_executor/cuda/cuda_driver.cc:282] failed call to cuInit: CUDA_ERROR_NO_DEVICE: no CUDA-capable device is detected\n",
      "2024-04-24 07:31:30.552595: I external/local_xla/xla/stream_executor/cuda/cuda_diagnostics.cc:134] retrieving CUDA diagnostic information for host: 0b7292f20506\n",
      "2024-04-24 07:31:30.552600: I external/local_xla/xla/stream_executor/cuda/cuda_diagnostics.cc:141] hostname: 0b7292f20506\n",
      "2024-04-24 07:31:30.552654: I external/local_xla/xla/stream_executor/cuda/cuda_diagnostics.cc:165] libcuda reported version is: 545.29.6\n",
      "2024-04-24 07:31:30.552667: I external/local_xla/xla/stream_executor/cuda/cuda_diagnostics.cc:169] kernel reported version is: 545.29.6\n",
      "2024-04-24 07:31:30.552670: I external/local_xla/xla/stream_executor/cuda/cuda_diagnostics.cc:248] kernel version seems to match DSO: 545.29.6\n"
     ]
    },
    {
     "data": {
      "text/plain": [
       "<_TensorSliceDataset element_spec=TensorSpec(shape=(), dtype=tf.int32, name=None)>"
      ]
     },
     "execution_count": 2,
     "metadata": {},
     "output_type": "execute_result"
    }
   ],
   "source": [
    "dataset = tf.data.Dataset.from_tensor_slices([8, 3, 0, 8, 2, 1])\n",
    "dataset"
   ]
  },
  {
   "cell_type": "code",
   "execution_count": 3,
   "id": "c3ef2f65-8a2f-4690-8583-15534888bebf",
   "metadata": {},
   "outputs": [
    {
     "name": "stdout",
     "output_type": "stream",
     "text": [
      "8\n",
      "3\n",
      "0\n",
      "8\n",
      "2\n",
      "1\n"
     ]
    },
    {
     "name": "stderr",
     "output_type": "stream",
     "text": [
      "2024-04-24 07:31:30.581124: W tensorflow/core/framework/local_rendezvous.cc:404] Local rendezvous is aborting with status: OUT_OF_RANGE: End of sequence\n"
     ]
    }
   ],
   "source": [
    "for elem in dataset:\n",
    "  print(elem.numpy())"
   ]
  },
  {
   "cell_type": "code",
   "execution_count": 4,
   "id": "864d1ad4-dec1-4be0-9f21-145df37d4206",
   "metadata": {},
   "outputs": [
    {
     "name": "stdout",
     "output_type": "stream",
     "text": [
      "8\n"
     ]
    }
   ],
   "source": [
    "it = iter(dataset)\n",
    "\n",
    "print(next(it).numpy())"
   ]
  },
  {
   "cell_type": "code",
   "execution_count": 5,
   "id": "efde51ec-7c23-4569-8268-fdd6eb252b1b",
   "metadata": {},
   "outputs": [
    {
     "name": "stdout",
     "output_type": "stream",
     "text": [
      "22\n"
     ]
    }
   ],
   "source": [
    "print(dataset.reduce(0, lambda state, value: state + value).numpy())"
   ]
  },
  {
   "cell_type": "markdown",
   "id": "82de0488-de5d-4894-8609-a8f0e1cdc244",
   "metadata": {},
   "source": [
    "### Dataset structure\n",
    "\n",
    "A dataset produces a sequence of *elements*, where each element is the same (nested) structure of *components*. Individual components of the structure can be of any type representable by [`tf.TypeSpec`](https://www.tensorflow.org/api_docs/python/tf/TypeSpec), including [`tf.Tensor`](https://www.tensorflow.org/api_docs/python/tf/Tensor), [`tf.sparse.SparseTensor`](https://www.tensorflow.org/api_docs/python/tf/sparse/SparseTensor), [`tf.RaggedTensor`](https://www.tensorflow.org/api_docs/python/tf/RaggedTensor), [`tf.TensorArray`](https://www.tensorflow.org/api_docs/python/tf/TensorArray), or [`tf.data.Dataset`](https://www.tensorflow.org/api_docs/python/tf/data/Dataset).\n",
    "\n",
    "The [`Dataset.element_spec`](https://www.tensorflow.org/api_docs/python/tf/data/Dataset#element_spec) property allows you to inspect the type of each element component. The property returns a *nested structure* of [`tf.TypeSpec`](https://www.tensorflow.org/api_docs/python/tf/TypeSpec) objects, matching the structure of the element, which may be a single component, a tuple of components, or a nested tuple of components. For example:"
   ]
  },
  {
   "cell_type": "code",
   "execution_count": 6,
   "id": "b704a05c-04ef-459c-bd7e-a24e9c632ed5",
   "metadata": {},
   "outputs": [
    {
     "data": {
      "text/plain": [
       "TensorSpec(shape=(10,), dtype=tf.float32, name=None)"
      ]
     },
     "execution_count": 6,
     "metadata": {},
     "output_type": "execute_result"
    }
   ],
   "source": [
    "dataset1 = tf.data.Dataset.from_tensor_slices(tf.random.uniform([4, 10]))\n",
    "\n",
    "dataset1.element_spec"
   ]
  },
  {
   "cell_type": "code",
   "execution_count": 7,
   "id": "716ae499-4174-4920-bf31-09ac427bf2a2",
   "metadata": {},
   "outputs": [
    {
     "data": {
      "text/plain": [
       "(TensorSpec(shape=(), dtype=tf.float32, name=None),\n",
       " TensorSpec(shape=(100,), dtype=tf.int32, name=None))"
      ]
     },
     "execution_count": 7,
     "metadata": {},
     "output_type": "execute_result"
    }
   ],
   "source": [
    "dataset2 = tf.data.Dataset.from_tensor_slices(\n",
    "   (tf.random.uniform([4]),\n",
    "    tf.random.uniform([4, 100], maxval=100, dtype=tf.int32)))\n",
    "\n",
    "dataset2.element_spec"
   ]
  },
  {
   "cell_type": "code",
   "execution_count": 8,
   "id": "b9209ee0-62f5-4cb4-81a6-8024a94eeb5e",
   "metadata": {},
   "outputs": [
    {
     "data": {
      "text/plain": [
       "(TensorSpec(shape=(10,), dtype=tf.float32, name=None),\n",
       " (TensorSpec(shape=(), dtype=tf.float32, name=None),\n",
       "  TensorSpec(shape=(100,), dtype=tf.int32, name=None)))"
      ]
     },
     "execution_count": 8,
     "metadata": {},
     "output_type": "execute_result"
    }
   ],
   "source": [
    "dataset3 = tf.data.Dataset.zip((dataset1, dataset2))\n",
    "\n",
    "dataset3.element_spec"
   ]
  },
  {
   "cell_type": "code",
   "execution_count": 9,
   "id": "978afdaf-7300-44f3-8a06-ac88d54842c6",
   "metadata": {},
   "outputs": [
    {
     "data": {
      "text/plain": [
       "SparseTensorSpec(TensorShape([3, 4]), tf.int32)"
      ]
     },
     "execution_count": 9,
     "metadata": {},
     "output_type": "execute_result"
    }
   ],
   "source": [
    "# Dataset containing a sparse tensor.\n",
    "dataset4 = tf.data.Dataset.from_tensors(tf.SparseTensor(indices=[[0, 0], [1, 2]], values=[1, 2], dense_shape=[3, 4]))\n",
    "\n",
    "dataset4.element_spec"
   ]
  },
  {
   "cell_type": "code",
   "execution_count": 10,
   "id": "39a7545f-91a0-40a4-992a-f236164ba149",
   "metadata": {},
   "outputs": [
    {
     "data": {
      "text/plain": [
       "tensorflow.python.framework.sparse_tensor.SparseTensor"
      ]
     },
     "execution_count": 10,
     "metadata": {},
     "output_type": "execute_result"
    }
   ],
   "source": [
    "# Use value_type to see the type of value represented by the element spec\n",
    "dataset4.element_spec.value_type"
   ]
  },
  {
   "cell_type": "markdown",
   "id": "883cfc3b-24e8-4dc0-957f-0b46411c9b7b",
   "metadata": {},
   "source": [
    "The `Dataset` transformations support datasets of any structure. When using the [`Dataset.map`](https://www.tensorflow.org/api_docs/python/tf/data/Dataset#map), and [`Dataset.filter`](https://www.tensorflow.org/api_docs/python/tf/data/Dataset#filter) transformations, which apply a function to each element, the element structure determines the arguments of the function:"
   ]
  },
  {
   "cell_type": "code",
   "execution_count": 11,
   "id": "96910b46-be81-4002-af60-323e78d0fe52",
   "metadata": {},
   "outputs": [
    {
     "data": {
      "text/plain": [
       "<_TensorSliceDataset element_spec=TensorSpec(shape=(10,), dtype=tf.int32, name=None)>"
      ]
     },
     "execution_count": 11,
     "metadata": {},
     "output_type": "execute_result"
    }
   ],
   "source": [
    "dataset1 = tf.data.Dataset.from_tensor_slices(\n",
    "    tf.random.uniform([4, 10], minval=1, maxval=10, dtype=tf.int32))\n",
    "\n",
    "dataset1"
   ]
  },
  {
   "cell_type": "code",
   "execution_count": 12,
   "id": "dfbeb8f3-3cc9-4e95-87dc-4cc4c135097b",
   "metadata": {},
   "outputs": [
    {
     "name": "stdout",
     "output_type": "stream",
     "text": [
      "[4 3 5 4 6 7 9 9 4 4]\n",
      "[5 5 8 3 1 2 3 6 4 4]\n",
      "[3 6 8 1 5 2 8 6 2 8]\n",
      "[2 2 4 7 9 1 2 4 9 9]\n"
     ]
    },
    {
     "name": "stderr",
     "output_type": "stream",
     "text": [
      "2024-04-24 07:31:30.630764: W tensorflow/core/framework/local_rendezvous.cc:404] Local rendezvous is aborting with status: OUT_OF_RANGE: End of sequence\n"
     ]
    }
   ],
   "source": [
    "for z in dataset1:\n",
    "  print(z.numpy())"
   ]
  },
  {
   "cell_type": "code",
   "execution_count": 13,
   "id": "30881981-7ea1-474d-a5c3-13b3d62068bb",
   "metadata": {},
   "outputs": [
    {
     "data": {
      "text/plain": [
       "<_TensorSliceDataset element_spec=(TensorSpec(shape=(), dtype=tf.float32, name=None), TensorSpec(shape=(100,), dtype=tf.int32, name=None))>"
      ]
     },
     "execution_count": 13,
     "metadata": {},
     "output_type": "execute_result"
    }
   ],
   "source": [
    "dataset2 = tf.data.Dataset.from_tensor_slices(\n",
    "   (tf.random.uniform([4]),\n",
    "    tf.random.uniform([4, 100], maxval=100, dtype=tf.int32)))\n",
    "\n",
    "dataset2"
   ]
  },
  {
   "cell_type": "code",
   "execution_count": 14,
   "id": "582aa432-9cec-4440-9a53-e7403c2a1f47",
   "metadata": {},
   "outputs": [
    {
     "data": {
      "text/plain": [
       "<_ZipDataset element_spec=(TensorSpec(shape=(10,), dtype=tf.int32, name=None), (TensorSpec(shape=(), dtype=tf.float32, name=None), TensorSpec(shape=(100,), dtype=tf.int32, name=None)))>"
      ]
     },
     "execution_count": 14,
     "metadata": {},
     "output_type": "execute_result"
    }
   ],
   "source": [
    "dataset3 = tf.data.Dataset.zip((dataset1, dataset2))\n",
    "\n",
    "dataset3"
   ]
  },
  {
   "cell_type": "code",
   "execution_count": 15,
   "id": "bd7aceb4-9d28-4910-bdc1-69f79eaaf98d",
   "metadata": {},
   "outputs": [
    {
     "name": "stdout",
     "output_type": "stream",
     "text": [
      "shapes: (10,), (), (100,)\n",
      "shapes: (10,), (), (100,)\n",
      "shapes: (10,), (), (100,)\n",
      "shapes: (10,), (), (100,)\n"
     ]
    },
    {
     "name": "stderr",
     "output_type": "stream",
     "text": [
      "2024-04-24 07:31:30.644184: W tensorflow/core/framework/local_rendezvous.cc:404] Local rendezvous is aborting with status: OUT_OF_RANGE: End of sequence\n"
     ]
    }
   ],
   "source": [
    "for a, (b,c) in dataset3:\n",
    "  print('shapes: {a.shape}, {b.shape}, {c.shape}'.format(a=a, b=b, c=c))"
   ]
  },
  {
   "cell_type": "markdown",
   "id": "721d7532-697e-4a02-9488-7a133aabe726",
   "metadata": {},
   "source": [
    "## Reading input data\n",
    "\n",
    "### Consuming NumPy arrays (`tf.data.Dataset.from_tensor_slices`)\n",
    "\n",
    "Refer to the [Loading NumPy arrays](https://www.tensorflow.org/tutorials/load_data/numpy) tutorial for more examples.\n",
    "\n",
    "If all of your input data fits in memory, the simplest way to create a `Dataset` from them is to convert them to [`tf.Tensor`](https://www.tensorflow.org/api_docs/python/tf/Tensor) objects and use [`Dataset.from_tensor_slices`](https://www.tensorflow.org/api_docs/python/tf/data/Dataset#from_tensor_slices)."
   ]
  },
  {
   "cell_type": "code",
   "execution_count": 16,
   "id": "026df0c3-50ee-49c6-b162-ae25c8c49042",
   "metadata": {},
   "outputs": [],
   "source": [
    "train, test = tf.keras.datasets.fashion_mnist.load_data()"
   ]
  },
  {
   "cell_type": "code",
   "execution_count": 17,
   "id": "b8856346-b0a6-41db-95a4-e9c2494e2df9",
   "metadata": {},
   "outputs": [
    {
     "data": {
      "text/plain": [
       "<_TensorSliceDataset element_spec=(TensorSpec(shape=(28, 28), dtype=tf.float64, name=None), TensorSpec(shape=(), dtype=tf.uint8, name=None))>"
      ]
     },
     "execution_count": 17,
     "metadata": {},
     "output_type": "execute_result"
    }
   ],
   "source": [
    "images, labels = train\n",
    "images = images/255\n",
    "\n",
    "dataset = tf.data.Dataset.from_tensor_slices((images, labels))\n",
    "dataset"
   ]
  },
  {
   "cell_type": "code",
   "execution_count": 18,
   "id": "90b9ad15-734f-4700-82dc-1d3b8fe3f1ed",
   "metadata": {},
   "outputs": [
    {
     "data": {
      "text/plain": [
       "((60000, 28, 28), (60000,))"
      ]
     },
     "execution_count": 18,
     "metadata": {},
     "output_type": "execute_result"
    }
   ],
   "source": [
    "images.shape, labels.shape"
   ]
  },
  {
   "cell_type": "markdown",
   "id": "46d78cb9-ca36-41b1-8248-e225fe656adb",
   "metadata": {},
   "source": [
    " This works well for a small dataset, but wastes memory---because the contents of the array will be copied multiple times---and can run into the 2GB limit for the `tf.GraphDef` protocol buffer."
   ]
  },
  {
   "cell_type": "markdown",
   "id": "6cfd2e88-b2f5-440c-8163-297404f54a6d",
   "metadata": {},
   "source": [
    "### Consuming Python generators (`tf.data.Dataset.from_generator`)\n",
    "\n",
    "Another common data source that can easily be ingested as a [`tf.data.Dataset`](https://www.tensorflow.org/api_docs/python/tf/data/Dataset) is the python generator."
   ]
  },
  {
   "cell_type": "code",
   "execution_count": 19,
   "id": "d028d6ef-1b29-4d95-b437-268e48b3afa6",
   "metadata": {},
   "outputs": [],
   "source": [
    "def count(stop):\n",
    "  i = 0\n",
    "  while i<stop:\n",
    "    yield i\n",
    "    i += 1"
   ]
  },
  {
   "cell_type": "code",
   "execution_count": 20,
   "id": "ee98e661-cb22-4838-9fe2-fcfa8f8517ad",
   "metadata": {},
   "outputs": [
    {
     "name": "stdout",
     "output_type": "stream",
     "text": [
      "0\n",
      "1\n",
      "2\n",
      "3\n",
      "4\n"
     ]
    }
   ],
   "source": [
    "for n in count(5):\n",
    "  print(n)"
   ]
  },
  {
   "cell_type": "code",
   "execution_count": 21,
   "id": "313006ee-235f-48ba-9f85-27143ddf1f10",
   "metadata": {},
   "outputs": [],
   "source": [
    "ds_counter = tf.data.Dataset.from_generator(count, args=[25], output_types=tf.int32, output_shapes = (), )"
   ]
  },
  {
   "cell_type": "code",
   "execution_count": 22,
   "id": "c02f36ee-2d94-4db0-a16c-a2414ee83838",
   "metadata": {},
   "outputs": [
    {
     "name": "stdout",
     "output_type": "stream",
     "text": [
      "[0 1 2 3 4 5 6 7 8 9]\n",
      "[10 11 12 13 14 15 16 17 18 19]\n",
      "[20 21 22 23 24  0  1  2  3  4]\n",
      "[ 5  6  7  8  9 10 11 12 13 14]\n",
      "[15 16 17 18 19 20 21 22 23 24]\n",
      "[0 1 2 3 4 5 6 7 8 9]\n",
      "[10 11 12 13 14 15 16 17 18 19]\n",
      "[20 21 22 23 24  0  1  2  3  4]\n",
      "[ 5  6  7  8  9 10 11 12 13 14]\n",
      "[15 16 17 18 19 20 21 22 23 24]\n"
     ]
    },
    {
     "name": "stderr",
     "output_type": "stream",
     "text": [
      "2024-04-24 07:31:31.145008: W tensorflow/core/framework/local_rendezvous.cc:404] Local rendezvous is aborting with status: OUT_OF_RANGE: End of sequence\n"
     ]
    }
   ],
   "source": [
    "for count_batch in ds_counter.repeat().batch(10).take(10):\n",
    "  print(count_batch.numpy())"
   ]
  },
  {
   "cell_type": "markdown",
   "id": "ef64efde-5c9b-4e47-b319-0a61b1cbc56d",
   "metadata": {},
   "source": [
    "The `output_shapes` argument is not *required* but is highly recommended as many TensorFlow operations do not support tensors with an unknown rank. If the length of a particular axis is unknown or variable, set it as `None` in the `output_shapes`.\n",
    "\n",
    "It's also important to note that the `output_shapes` and `output_types` follow the same nesting rules as other dataset methods.\n",
    "\n",
    "Here is an example generator that demonstrates both aspects: it returns tuples of arrays, where the second array is a vector with unknown length."
   ]
  },
  {
   "cell_type": "code",
   "execution_count": 23,
   "id": "93317085-fa16-440e-8637-7eab4f79d7de",
   "metadata": {},
   "outputs": [],
   "source": [
    "def gen_series():\n",
    "  i = 0\n",
    "  while True:\n",
    "    size = np.random.randint(0, 10)\n",
    "    yield i, np.random.normal(size=(size,))\n",
    "    i += 1"
   ]
  },
  {
   "cell_type": "code",
   "execution_count": 24,
   "id": "3df520fe-8651-4890-a911-4538282a7372",
   "metadata": {},
   "outputs": [
    {
     "name": "stdout",
     "output_type": "stream",
     "text": [
      "0 : [-1.3876  0.8396  1.879  -0.8719  0.7578  0.7361]\n",
      "1 : [0.1993 0.3532]\n",
      "2 : [-0.2315 -1.9471  0.8528 -1.0563 -1.3822 -0.848   0.0339  1.0113  1.6708]\n",
      "3 : []\n",
      "4 : [-1.2596 -0.4125 -1.1296]\n",
      "5 : [-0.2018  1.3765  0.4575 -0.6453 -0.0341 -1.7881  0.2926]\n",
      "6 : [-0.674  -1.7723 -1.2631  2.3173 -0.8635 -0.435  -0.9496]\n"
     ]
    }
   ],
   "source": [
    "for i, series in gen_series():\n",
    "  print(i, \":\", str(series))\n",
    "  if i > 5:\n",
    "    break"
   ]
  },
  {
   "cell_type": "markdown",
   "id": "abb79ffe-44e9-4f8e-b8e9-8e6dc22fc120",
   "metadata": {},
   "source": [
    "The first output is an `int32` the second is a `float32`.\n",
    "\n",
    "The first item is a scalar, shape `()`, and the second is a vector of unknown length, shape `(None,)`"
   ]
  },
  {
   "cell_type": "code",
   "execution_count": 25,
   "id": "39e95f50-6ed0-45ca-b492-5ff9533de39d",
   "metadata": {},
   "outputs": [
    {
     "data": {
      "text/plain": [
       "<_FlatMapDataset element_spec=(TensorSpec(shape=(), dtype=tf.int32, name=None), TensorSpec(shape=(None,), dtype=tf.float32, name=None))>"
      ]
     },
     "execution_count": 25,
     "metadata": {},
     "output_type": "execute_result"
    }
   ],
   "source": [
    "ds_series = tf.data.Dataset.from_generator(\n",
    "    gen_series,\n",
    "    output_types=(tf.int32, tf.float32),\n",
    "    output_shapes=((), (None,)))\n",
    "\n",
    "ds_series"
   ]
  },
  {
   "cell_type": "markdown",
   "id": "26f36c83-ce00-46ce-a11a-6a9815d467b0",
   "metadata": {},
   "source": [
    "Now it can be used like a regular [`tf.data.Dataset`](https://www.tensorflow.org/api_docs/python/tf/data/Dataset). Note that when batching a dataset with a variable shape, you need to use [`Dataset.padded_batch`](https://www.tensorflow.org/api_docs/python/tf/data/Dataset#padded_batch)."
   ]
  },
  {
   "cell_type": "code",
   "execution_count": 26,
   "id": "b21f3413-63d3-48ef-8718-3f6d2cbdd2f8",
   "metadata": {},
   "outputs": [
    {
     "name": "stdout",
     "output_type": "stream",
     "text": [
      "[ 9 14 15 21  1 19  7 16  0  8]\n",
      "\n",
      "[[ 0.7579 -0.4827  0.3717  0.      0.      0.      0.      0.      0.    ]\n",
      " [-0.5983  0.      0.      0.      0.      0.      0.      0.      0.    ]\n",
      " [ 0.9442 -0.6436 -2.4037  1.162   0.      0.      0.      0.      0.    ]\n",
      " [-0.4544  0.7663 -0.9616 -0.654  -0.2451 -0.5311  0.      0.      0.    ]\n",
      " [-2.2924 -0.9098  0.      0.      0.      0.      0.      0.      0.    ]\n",
      " [ 0.1162  1.0189  0.0063  1.7608 -0.0778 -0.9287  0.2694  1.3699 -2.0083]\n",
      " [ 1.7508 -0.9851  0.      0.      0.      0.      0.      0.      0.    ]\n",
      " [-0.2935 -2.4818 -0.1225  0.6199  0.6934 -0.7415  0.      0.      0.    ]\n",
      " [ 0.      0.      0.      0.      0.      0.      0.      0.      0.    ]\n",
      " [-0.7223 -0.1482  0.7323 -0.837   0.      0.      0.      0.      0.    ]]\n"
     ]
    }
   ],
   "source": [
    "ds_series_batch = ds_series.shuffle(20).padded_batch(10)\n",
    "\n",
    "ids, sequence_batch = next(iter(ds_series_batch))\n",
    "print(ids.numpy())\n",
    "print()\n",
    "print(sequence_batch.numpy())"
   ]
  },
  {
   "cell_type": "markdown",
   "id": "498009c3-4653-41f4-ba09-0ee331251d5a",
   "metadata": {},
   "source": [
    "---"
   ]
  },
  {
   "cell_type": "markdown",
   "id": "614d016a-b6c3-411a-b4c5-5854b5e4a7d3",
   "metadata": {},
   "source": [
    "For a more realistic example, try wrapping [`preprocessing.image.ImageDataGenerator`](https://www.tensorflow.org/api_docs/python/tf/keras/preprocessing/image/ImageDataGenerator) as a [`tf.data.Dataset`](https://www.tensorflow.org/api_docs/python/tf/data/Dataset)."
   ]
  },
  {
   "cell_type": "code",
   "execution_count": 27,
   "id": "3b4c7e07-3468-416e-b63c-b7e4314905e6",
   "metadata": {},
   "outputs": [],
   "source": [
    "flowers = tf.keras.utils.get_file(\n",
    "    'flower_photos',\n",
    "    'https://storage.googleapis.com/download.tensorflow.org/example_images/flower_photos.tgz',\n",
    "    untar=True)"
   ]
  },
  {
   "cell_type": "code",
   "execution_count": 28,
   "id": "293691b7-7d71-4625-94c6-3817ea6916e4",
   "metadata": {},
   "outputs": [],
   "source": [
    "img_gen = tf.keras.preprocessing.image.ImageDataGenerator(rescale=1./255, rotation_range=20)"
   ]
  },
  {
   "cell_type": "code",
   "execution_count": 29,
   "id": "87fdebba-6549-4da9-a81a-5512a953e32a",
   "metadata": {},
   "outputs": [
    {
     "data": {
      "text/plain": [
       "'/home/appuser/.keras/datasets/flower_photos'"
      ]
     },
     "execution_count": 29,
     "metadata": {},
     "output_type": "execute_result"
    }
   ],
   "source": [
    "flowers"
   ]
  },
  {
   "cell_type": "code",
   "execution_count": 30,
   "id": "341758a0-6e5e-42a0-b839-316e965aade0",
   "metadata": {},
   "outputs": [
    {
     "name": "stdout",
     "output_type": "stream",
     "text": [
      "LICENSE.txt  \u001b[0m\u001b[01;34mdaisy\u001b[0m/  \u001b[01;34mdandelion\u001b[0m/  \u001b[01;34mroses\u001b[0m/  \u001b[01;34msunflowers\u001b[0m/  \u001b[01;34mtulips\u001b[0m/\n"
     ]
    }
   ],
   "source": [
    "%ls $flowers"
   ]
  },
  {
   "cell_type": "code",
   "execution_count": 67,
   "id": "71fac95e-4e76-47f0-8df6-a4a00e3a48ea",
   "metadata": {},
   "outputs": [
    {
     "name": "stdout",
     "output_type": "stream",
     "text": [
      "Found 3670 images belonging to 5 classes.\n"
     ]
    },
    {
     "data": {
      "text/plain": [
       "<keras.src.legacy.preprocessing.image.DirectoryIterator at 0x77733313f690>"
      ]
     },
     "execution_count": 67,
     "metadata": {},
     "output_type": "execute_result"
    }
   ],
   "source": [
    "img_gen.flow_from_directory(flowers)"
   ]
  },
  {
   "cell_type": "markdown",
   "id": "674346d8-c593-4208-8c9f-eef0e922df98",
   "metadata": {},
   "source": [
    "Iterating `flow_from_directory()` returns a batch of images and labels which are used as input tensors."
   ]
  },
  {
   "cell_type": "code",
   "execution_count": 31,
   "id": "b373dd6f-dcbd-4bc6-a449-410c3ecf1d22",
   "metadata": {},
   "outputs": [
    {
     "name": "stdout",
     "output_type": "stream",
     "text": [
      "Found 3670 images belonging to 5 classes.\n"
     ]
    }
   ],
   "source": [
    "images, labels = next(img_gen.flow_from_directory(flowers))"
   ]
  },
  {
   "cell_type": "code",
   "execution_count": 32,
   "id": "fec121ad-7fd4-4028-b1c8-49892feedd30",
   "metadata": {},
   "outputs": [
    {
     "name": "stdout",
     "output_type": "stream",
     "text": [
      "float32 (32, 256, 256, 3)\n",
      "float32 (32, 5)\n"
     ]
    }
   ],
   "source": [
    "print(images.dtype, images.shape)\n",
    "print(labels.dtype, labels.shape)"
   ]
  },
  {
   "cell_type": "code",
   "execution_count": 33,
   "id": "6755eef9-2a55-4915-9b67-485450ed6f6b",
   "metadata": {},
   "outputs": [
    {
     "data": {
      "text/plain": [
       "(TensorSpec(shape=(32, 256, 256, 3), dtype=tf.float32, name=None),\n",
       " TensorSpec(shape=(32, 5), dtype=tf.float32, name=None))"
      ]
     },
     "execution_count": 33,
     "metadata": {},
     "output_type": "execute_result"
    }
   ],
   "source": [
    "ds = tf.data.Dataset.from_generator(\n",
    "    lambda: img_gen.flow_from_directory(flowers),\n",
    "    output_types=(tf.float32, tf.float32),\n",
    "    output_shapes=([32,256,256,3], [32,5])\n",
    ")\n",
    "\n",
    "ds.element_spec"
   ]
  },
  {
   "cell_type": "code",
   "execution_count": 34,
   "id": "097e8a04-04ff-42ac-95b3-a95d336af4c0",
   "metadata": {},
   "outputs": [
    {
     "name": "stdout",
     "output_type": "stream",
     "text": [
      "Found 3670 images belonging to 5 classes.\n",
      "images.shape:  (32, 256, 256, 3)\n",
      "labels.shape:  (32, 5)\n"
     ]
    },
    {
     "name": "stderr",
     "output_type": "stream",
     "text": [
      "2024-04-24 07:31:31.858226: W tensorflow/core/framework/local_rendezvous.cc:404] Local rendezvous is aborting with status: OUT_OF_RANGE: End of sequence\n"
     ]
    }
   ],
   "source": [
    "for images, labels in ds.take(1):\n",
    "  print('images.shape: ', images.shape)\n",
    "  print('labels.shape: ', labels.shape)"
   ]
  },
  {
   "cell_type": "markdown",
   "id": "1dce99d6-1452-4ed1-8449-4bfdb9f0def5",
   "metadata": {},
   "source": [
    "### Consuming TFRecord data (`tf.data.TFRecordDataset`)\n",
    "\n",
    "Refer to the [Loading TFRecords](https://www.tensorflow.org/tutorials/load_data/tfrecord) tutorial for an end-to-end example.\n",
    "\n",
    "The [`tf.data`](https://www.tensorflow.org/api_docs/python/tf/data) API supports a variety of file formats so that you can process large datasets that do not fit in memory. For example, the TFRecord file format is a simple record-oriented binary format that many TensorFlow applications use for training data. The [`tf.data.TFRecordDataset`](https://www.tensorflow.org/api_docs/python/tf/data/TFRecordDataset) class enables you to stream over the contents of one or more TFRecord files as part of an input pipeline.\n",
    "\n",
    "Here is an example using the test file from the French Street Name Signs (FSNS)."
   ]
  },
  {
   "cell_type": "code",
   "execution_count": 35,
   "id": "63734eb7-e158-4e4d-8e93-2e9b51a5b0ee",
   "metadata": {},
   "outputs": [],
   "source": [
    "# Creates a dataset that reads all of the examples from two files.\n",
    "fsns_test_file = tf.keras.utils.get_file(\"fsns.tfrec\", \"https://storage.googleapis.com/download.tensorflow.org/data/fsns-20160927/testdata/fsns-00000-of-00001\")"
   ]
  },
  {
   "cell_type": "markdown",
   "id": "74b4dea7-03c8-4322-81db-92daf3915715",
   "metadata": {},
   "source": [
    "The `filenames` argument to the `TFRecordDataset` initializer can either be a string, a list of strings, or a [`tf.Tensor`](https://www.tensorflow.org/api_docs/python/tf/Tensor) of strings. Therefore if you have two sets of files for training and validation purposes, you can create a factory method that produces the dataset, taking filenames as an input argument:"
   ]
  },
  {
   "cell_type": "code",
   "execution_count": 36,
   "id": "906b8b67-d0bd-4c76-bef1-7d0c0a01c8cb",
   "metadata": {},
   "outputs": [
    {
     "data": {
      "text/plain": [
       "<TFRecordDatasetV2 element_spec=TensorSpec(shape=(), dtype=tf.string, name=None)>"
      ]
     },
     "execution_count": 36,
     "metadata": {},
     "output_type": "execute_result"
    }
   ],
   "source": [
    "dataset = tf.data.TFRecordDataset(filenames = [fsns_test_file])\n",
    "dataset"
   ]
  },
  {
   "cell_type": "code",
   "execution_count": 37,
   "id": "9e56fd8a-0080-4860-a3a7-8c543b23f19a",
   "metadata": {},
   "outputs": [
    {
     "data": {
      "text/plain": [
       "bytes_list {\n",
       "  value: \"Rue Perreyon\"\n",
       "}"
      ]
     },
     "execution_count": 37,
     "metadata": {},
     "output_type": "execute_result"
    }
   ],
   "source": [
    "raw_example = next(iter(dataset))\n",
    "parsed = tf.train.Example.FromString(raw_example.numpy())\n",
    "\n",
    "parsed.features.feature['image/text']"
   ]
  },
  {
   "cell_type": "markdown",
   "id": "6b2aff43-de87-456d-9f4d-7cb7294eae65",
   "metadata": {},
   "source": [
    "### Consuming text data (`tf.data.TextLineDataset`)\n",
    "\n",
    "Refer to the [Load text](https://www.tensorflow.org/tutorials/load_data/text) tutorial for an end-to-end example.\n",
    "\n",
    "Many datasets are distributed as one or more text files. The [`tf.data.TextLineDataset`](https://www.tensorflow.org/api_docs/python/tf/data/TextLineDataset) provides an easy way to extract lines from one or more text files. Given one or more filenames, a `TextLineDataset` will produce one string-valued element per line of those files."
   ]
  },
  {
   "cell_type": "code",
   "execution_count": 38,
   "id": "b0e3dce7-4d0b-4acd-b5d6-5845d6cb3f14",
   "metadata": {},
   "outputs": [
    {
     "name": "stdout",
     "output_type": "stream",
     "text": [
      "Downloading data from https://storage.googleapis.com/download.tensorflow.org/data/illiad/cowper.txt\n",
      "\u001b[1m815980/815980\u001b[0m \u001b[32m━━━━━━━━━━━━━━━━━━━━\u001b[0m\u001b[37m\u001b[0m \u001b[1m0s\u001b[0m 0us/step\n",
      "Downloading data from https://storage.googleapis.com/download.tensorflow.org/data/illiad/derby.txt\n",
      "\u001b[1m809730/809730\u001b[0m \u001b[32m━━━━━━━━━━━━━━━━━━━━\u001b[0m\u001b[37m\u001b[0m \u001b[1m0s\u001b[0m 1us/step\n",
      "Downloading data from https://storage.googleapis.com/download.tensorflow.org/data/illiad/butler.txt\n",
      "\u001b[1m807992/807992\u001b[0m \u001b[32m━━━━━━━━━━━━━━━━━━━━\u001b[0m\u001b[37m\u001b[0m \u001b[1m1s\u001b[0m 1us/step\n"
     ]
    }
   ],
   "source": [
    "directory_url = 'https://storage.googleapis.com/download.tensorflow.org/data/illiad/'\n",
    "file_names = ['cowper.txt', 'derby.txt', 'butler.txt']\n",
    "\n",
    "file_paths = [\n",
    "    tf.keras.utils.get_file(file_name, directory_url + file_name)\n",
    "    for file_name in file_names\n",
    "]"
   ]
  },
  {
   "cell_type": "code",
   "execution_count": 39,
   "id": "a29accb5-5caf-4aa3-ac75-b87804f5d852",
   "metadata": {},
   "outputs": [],
   "source": [
    "dataset = tf.data.TextLineDataset(file_paths)"
   ]
  },
  {
   "cell_type": "markdown",
   "id": "2892508e-ffe1-4de1-b8ea-a613c62eea45",
   "metadata": {},
   "source": [
    "Here are the first few lines of the first file:"
   ]
  },
  {
   "cell_type": "code",
   "execution_count": 40,
   "id": "d77c3bd4-abf7-4262-a9f9-923e67a46345",
   "metadata": {},
   "outputs": [
    {
     "name": "stdout",
     "output_type": "stream",
     "text": [
      "b\"\\xef\\xbb\\xbfAchilles sing, O Goddess! Peleus' son;\"\n",
      "b'His wrath pernicious, who ten thousand woes'\n",
      "b\"Caused to Achaia's host, sent many a soul\"\n",
      "b'Illustrious into Ades premature,'\n",
      "b'And Heroes gave (so stood the will of Jove)'\n"
     ]
    },
    {
     "name": "stderr",
     "output_type": "stream",
     "text": [
      "2024-04-24 07:31:34.121707: W tensorflow/core/framework/local_rendezvous.cc:404] Local rendezvous is aborting with status: OUT_OF_RANGE: End of sequence\n"
     ]
    }
   ],
   "source": [
    "for line in dataset.take(5):\n",
    "  print(line.numpy())"
   ]
  },
  {
   "cell_type": "markdown",
   "id": "5ae93ee3-2b93-45c2-96e4-ad759060aad6",
   "metadata": {},
   "source": [
    "To alternate lines between files use [`Dataset.interleave`](https://www.tensorflow.org/api_docs/python/tf/data/Dataset#interleave). This makes it easier to shuffle files together. Here are the first, second and third lines from each translation:"
   ]
  },
  {
   "cell_type": "code",
   "execution_count": 41,
   "id": "e53268a7-6809-4b7b-9097-d5379adc132b",
   "metadata": {},
   "outputs": [
    {
     "name": "stdout",
     "output_type": "stream",
     "text": [
      "\n",
      "b\"\\xef\\xbb\\xbfAchilles sing, O Goddess! Peleus' son;\"\n",
      "b\"\\xef\\xbb\\xbfOf Peleus' son, Achilles, sing, O Muse,\"\n",
      "b'\\xef\\xbb\\xbfSing, O goddess, the anger of Achilles son of Peleus, that brought'\n",
      "\n",
      "b'His wrath pernicious, who ten thousand woes'\n",
      "b'The vengeance, deep and deadly; whence to Greece'\n",
      "b'countless ills upon the Achaeans. Many a brave soul did it send'\n",
      "\n",
      "b\"Caused to Achaia's host, sent many a soul\"\n",
      "b'Unnumbered ills arose; which many a soul'\n",
      "b'hurrying down to Hades, and many a hero did it yield a prey to dogs and'\n"
     ]
    },
    {
     "name": "stderr",
     "output_type": "stream",
     "text": [
      "2024-04-24 07:31:34.144849: W tensorflow/core/framework/local_rendezvous.cc:404] Local rendezvous is aborting with status: OUT_OF_RANGE: End of sequence\n"
     ]
    }
   ],
   "source": [
    "files_ds = tf.data.Dataset.from_tensor_slices(file_paths)\n",
    "lines_ds = files_ds.interleave(tf.data.TextLineDataset, cycle_length=3)\n",
    "\n",
    "for i, line in enumerate(lines_ds.take(9)):\n",
    "  if i % 3 == 0:\n",
    "    print()\n",
    "  print(line.numpy())"
   ]
  },
  {
   "cell_type": "markdown",
   "id": "3f807881-7e56-40e9-8c8a-b8c228af7f8f",
   "metadata": {},
   "source": [
    "By default, a `TextLineDataset` yields *every* line of each file, which may not be desirable, for example, if the file starts with a header line, or contains comments. These lines can be removed using the [`Dataset.skip()`](https://www.tensorflow.org/api_docs/python/tf/data/Dataset#skip) or [`Dataset.filter`](https://www.tensorflow.org/api_docs/python/tf/data/Dataset#filter) transformations. Here, you skip the first line, then filter to find only survivors."
   ]
  },
  {
   "cell_type": "code",
   "execution_count": 42,
   "id": "690b8204-d98e-48a2-b035-0c33b65a7fbc",
   "metadata": {},
   "outputs": [],
   "source": [
    "titanic_file = tf.keras.utils.get_file(\"train.csv\", \"https://storage.googleapis.com/tf-datasets/titanic/train.csv\")\n",
    "titanic_lines = tf.data.TextLineDataset(titanic_file)"
   ]
  },
  {
   "cell_type": "code",
   "execution_count": 43,
   "id": "30373d3d-80ac-44d2-87ac-dad7d8f11036",
   "metadata": {},
   "outputs": [
    {
     "name": "stdout",
     "output_type": "stream",
     "text": [
      "b'survived,sex,age,n_siblings_spouses,parch,fare,class,deck,embark_town,alone'\n",
      "b'0,male,22.0,1,0,7.25,Third,unknown,Southampton,n'\n",
      "b'1,female,38.0,1,0,71.2833,First,C,Cherbourg,n'\n",
      "b'1,female,26.0,0,0,7.925,Third,unknown,Southampton,y'\n",
      "b'1,female,35.0,1,0,53.1,First,C,Southampton,n'\n",
      "b'0,male,28.0,0,0,8.4583,Third,unknown,Queenstown,y'\n",
      "b'0,male,2.0,3,1,21.075,Third,unknown,Southampton,n'\n",
      "b'1,female,27.0,0,2,11.1333,Third,unknown,Southampton,n'\n",
      "b'1,female,14.0,1,0,30.0708,Second,unknown,Cherbourg,n'\n",
      "b'1,female,4.0,1,1,16.7,Third,G,Southampton,n'\n"
     ]
    },
    {
     "name": "stderr",
     "output_type": "stream",
     "text": [
      "2024-04-24 07:31:34.161003: W tensorflow/core/framework/local_rendezvous.cc:404] Local rendezvous is aborting with status: OUT_OF_RANGE: End of sequence\n"
     ]
    }
   ],
   "source": [
    "for line in titanic_lines.take(10):\n",
    "  print(line.numpy())"
   ]
  },
  {
   "cell_type": "code",
   "execution_count": 44,
   "id": "0fb8ba5d-e323-4f94-8caa-05cd65f12c96",
   "metadata": {},
   "outputs": [],
   "source": [
    "def survived(line):\n",
    "  return tf.not_equal(tf.strings.substr(line, 0, 1), \"0\")\n",
    "\n",
    "survivors = titanic_lines.skip(1).filter(survived)"
   ]
  },
  {
   "cell_type": "code",
   "execution_count": 45,
   "id": "1ef2cbfc-a375-4930-8e7d-166ebbe0cfa0",
   "metadata": {},
   "outputs": [
    {
     "name": "stdout",
     "output_type": "stream",
     "text": [
      "b'1,female,38.0,1,0,71.2833,First,C,Cherbourg,n'\n",
      "b'1,female,26.0,0,0,7.925,Third,unknown,Southampton,y'\n",
      "b'1,female,35.0,1,0,53.1,First,C,Southampton,n'\n",
      "b'1,female,27.0,0,2,11.1333,Third,unknown,Southampton,n'\n",
      "b'1,female,14.0,1,0,30.0708,Second,unknown,Cherbourg,n'\n",
      "b'1,female,4.0,1,1,16.7,Third,G,Southampton,n'\n",
      "b'1,male,28.0,0,0,13.0,Second,unknown,Southampton,y'\n",
      "b'1,female,28.0,0,0,7.225,Third,unknown,Cherbourg,y'\n",
      "b'1,male,28.0,0,0,35.5,First,A,Southampton,y'\n",
      "b'1,female,38.0,1,5,31.3875,Third,unknown,Southampton,n'\n"
     ]
    },
    {
     "name": "stderr",
     "output_type": "stream",
     "text": [
      "2024-04-24 07:31:34.193611: W tensorflow/core/framework/local_rendezvous.cc:404] Local rendezvous is aborting with status: OUT_OF_RANGE: End of sequence\n"
     ]
    }
   ],
   "source": [
    "for line in survivors.take(10):\n",
    "  print(line.numpy())"
   ]
  },
  {
   "cell_type": "markdown",
   "id": "a71998de-70ef-4b4a-b878-26897144c046",
   "metadata": {},
   "source": [
    "### Consuming CSV data"
   ]
  },
  {
   "cell_type": "code",
   "execution_count": 46,
   "id": "a8a96bf4-ac27-4feb-897c-d2200dfc25fe",
   "metadata": {},
   "outputs": [],
   "source": [
    "titanic_file = tf.keras.utils.get_file(\"train.csv\", \"https://storage.googleapis.com/tf-datasets/titanic/train.csv\")"
   ]
  },
  {
   "cell_type": "code",
   "execution_count": 47,
   "id": "7070f710-3b67-49af-b712-baf3437859ff",
   "metadata": {},
   "outputs": [
    {
     "data": {
      "text/html": [
       "<div>\n",
       "<style scoped>\n",
       "    .dataframe tbody tr th:only-of-type {\n",
       "        vertical-align: middle;\n",
       "    }\n",
       "\n",
       "    .dataframe tbody tr th {\n",
       "        vertical-align: top;\n",
       "    }\n",
       "\n",
       "    .dataframe thead th {\n",
       "        text-align: right;\n",
       "    }\n",
       "</style>\n",
       "<table border=\"1\" class=\"dataframe\">\n",
       "  <thead>\n",
       "    <tr style=\"text-align: right;\">\n",
       "      <th></th>\n",
       "      <th>survived</th>\n",
       "      <th>sex</th>\n",
       "      <th>age</th>\n",
       "      <th>n_siblings_spouses</th>\n",
       "      <th>parch</th>\n",
       "      <th>fare</th>\n",
       "      <th>class</th>\n",
       "      <th>deck</th>\n",
       "      <th>embark_town</th>\n",
       "      <th>alone</th>\n",
       "    </tr>\n",
       "  </thead>\n",
       "  <tbody>\n",
       "    <tr>\n",
       "      <th>0</th>\n",
       "      <td>0</td>\n",
       "      <td>male</td>\n",
       "      <td>22.0</td>\n",
       "      <td>1</td>\n",
       "      <td>0</td>\n",
       "      <td>7.2500</td>\n",
       "      <td>Third</td>\n",
       "      <td>unknown</td>\n",
       "      <td>Southampton</td>\n",
       "      <td>n</td>\n",
       "    </tr>\n",
       "    <tr>\n",
       "      <th>1</th>\n",
       "      <td>1</td>\n",
       "      <td>female</td>\n",
       "      <td>38.0</td>\n",
       "      <td>1</td>\n",
       "      <td>0</td>\n",
       "      <td>71.2833</td>\n",
       "      <td>First</td>\n",
       "      <td>C</td>\n",
       "      <td>Cherbourg</td>\n",
       "      <td>n</td>\n",
       "    </tr>\n",
       "    <tr>\n",
       "      <th>2</th>\n",
       "      <td>1</td>\n",
       "      <td>female</td>\n",
       "      <td>26.0</td>\n",
       "      <td>0</td>\n",
       "      <td>0</td>\n",
       "      <td>7.9250</td>\n",
       "      <td>Third</td>\n",
       "      <td>unknown</td>\n",
       "      <td>Southampton</td>\n",
       "      <td>y</td>\n",
       "    </tr>\n",
       "    <tr>\n",
       "      <th>3</th>\n",
       "      <td>1</td>\n",
       "      <td>female</td>\n",
       "      <td>35.0</td>\n",
       "      <td>1</td>\n",
       "      <td>0</td>\n",
       "      <td>53.1000</td>\n",
       "      <td>First</td>\n",
       "      <td>C</td>\n",
       "      <td>Southampton</td>\n",
       "      <td>n</td>\n",
       "    </tr>\n",
       "    <tr>\n",
       "      <th>4</th>\n",
       "      <td>0</td>\n",
       "      <td>male</td>\n",
       "      <td>28.0</td>\n",
       "      <td>0</td>\n",
       "      <td>0</td>\n",
       "      <td>8.4583</td>\n",
       "      <td>Third</td>\n",
       "      <td>unknown</td>\n",
       "      <td>Queenstown</td>\n",
       "      <td>y</td>\n",
       "    </tr>\n",
       "  </tbody>\n",
       "</table>\n",
       "</div>"
      ],
      "text/plain": [
       "   survived     sex   age  n_siblings_spouses  parch     fare  class     deck  \\\n",
       "0         0    male  22.0                   1      0   7.2500  Third  unknown   \n",
       "1         1  female  38.0                   1      0  71.2833  First        C   \n",
       "2         1  female  26.0                   0      0   7.9250  Third  unknown   \n",
       "3         1  female  35.0                   1      0  53.1000  First        C   \n",
       "4         0    male  28.0                   0      0   8.4583  Third  unknown   \n",
       "\n",
       "   embark_town alone  \n",
       "0  Southampton     n  \n",
       "1    Cherbourg     n  \n",
       "2  Southampton     y  \n",
       "3  Southampton     n  \n",
       "4   Queenstown     y  "
      ]
     },
     "execution_count": 47,
     "metadata": {},
     "output_type": "execute_result"
    }
   ],
   "source": [
    "df = pd.read_csv(titanic_file)\n",
    "df.head()"
   ]
  },
  {
   "cell_type": "code",
   "execution_count": 48,
   "id": "acd46c3f-d3cd-4366-bbf4-38170fedf571",
   "metadata": {},
   "outputs": [
    {
     "name": "stdout",
     "output_type": "stream",
     "text": [
      "key: survived\n",
      "val: 0      0\n",
      "1      1\n",
      "2      1\n",
      "3      1\n",
      "4      0\n",
      "      ..\n",
      "622    0\n",
      "623    0\n",
      "624    1\n",
      "625    0\n",
      "626    0\n",
      "Name: survived, Length: 627, dtype: int64\n"
     ]
    }
   ],
   "source": [
    "for key, val in dict(df).items():\n",
    "    print(f'key: {key}\\nval: {val}') # val is a Series\n",
    "    break"
   ]
  },
  {
   "cell_type": "code",
   "execution_count": 49,
   "id": "ee3aef9b-0948-423a-bf0f-2dec06452b5d",
   "metadata": {},
   "outputs": [
    {
     "name": "stdout",
     "output_type": "stream",
     "text": [
      "  'survived'          : 0\n",
      "  'sex'               : b'male'\n",
      "  'age'               : 22.0\n",
      "  'n_siblings_spouses': 1\n",
      "  'parch'             : 0\n",
      "  'fare'              : 7.25\n",
      "  'class'             : b'Third'\n",
      "  'deck'              : b'unknown'\n",
      "  'embark_town'       : b'Southampton'\n",
      "  'alone'             : b'n'\n"
     ]
    },
    {
     "name": "stderr",
     "output_type": "stream",
     "text": [
      "2024-04-24 07:31:34.219480: W tensorflow/core/framework/local_rendezvous.cc:404] Local rendezvous is aborting with status: OUT_OF_RANGE: End of sequence\n"
     ]
    }
   ],
   "source": [
    "titanic_slices = tf.data.Dataset.from_tensor_slices(dict(df))\n",
    "\n",
    "for feature_batch in titanic_slices.take(1):\n",
    "  for key, value in feature_batch.items():\n",
    "    print(\"  {!r:20s}: {}\".format(key, value))"
   ]
  },
  {
   "cell_type": "markdown",
   "id": "7d356583-e315-4ebc-b363-43cbd43073ca",
   "metadata": {},
   "source": [
    "---\n",
    "### (`tf.data.experimental.make_csv_dataset`)\n",
    "#### more scalable approach"
   ]
  },
  {
   "cell_type": "markdown",
   "id": "c57aa314-1476-4f36-ba6c-39b440872b31",
   "metadata": {},
   "source": [
    "A more scalable approach is to load from disk as necessary.\n",
    "\n",
    "The [`tf.data`](https://www.tensorflow.org/api_docs/python/tf/data) module provides methods to extract records from one or more CSV files that comply with [RFC 4180](https://tools.ietf.org/html/rfc4180).\n",
    "\n",
    "The [`tf.data.experimental.make_csv_dataset`](https://www.tensorflow.org/api_docs/python/tf/data/experimental/make_csv_dataset) function is the high-level interface for reading sets of CSV files. It supports column type inference and many other features, like batching and shuffling, to make usage simple."
   ]
  },
  {
   "cell_type": "code",
   "execution_count": 50,
   "id": "023263fe-3e6c-4708-b90a-95a19e93f7cc",
   "metadata": {},
   "outputs": [],
   "source": [
    "titanic_batches = tf.data.experimental.make_csv_dataset(\n",
    "    titanic_file, batch_size=4,\n",
    "    label_name=\"survived\")"
   ]
  },
  {
   "cell_type": "code",
   "execution_count": 51,
   "id": "da7aea70-e1f9-450b-899d-08f3129de64b",
   "metadata": {},
   "outputs": [
    {
     "name": "stdout",
     "output_type": "stream",
     "text": [
      "'survived': [0 1 0 1]\n",
      "features:\n",
      "  'sex'               : [b'male' b'female' b'male' b'male']\n",
      "  'age'               : [29. 26. 24. 40.]\n",
      "  'n_siblings_spouses': [1 0 0 0]\n",
      "  'parch'             : [0 0 0 0]\n",
      "  'fare'              : [21.   78.85 79.2  31.  ]\n",
      "  'class'             : [b'Second' b'First' b'First' b'First']\n",
      "  'deck'              : [b'unknown' b'unknown' b'B' b'A']\n",
      "  'embark_town'       : [b'Southampton' b'Southampton' b'Cherbourg' b'Cherbourg']\n",
      "  'alone'             : [b'n' b'y' b'y' b'y']\n"
     ]
    },
    {
     "name": "stderr",
     "output_type": "stream",
     "text": [
      "2024-04-24 07:31:34.273756: W tensorflow/core/framework/local_rendezvous.cc:404] Local rendezvous is aborting with status: OUT_OF_RANGE: End of sequence\n"
     ]
    }
   ],
   "source": [
    "for feature_batch, label_batch in titanic_batches.take(1):\n",
    "  print(\"'survived': {}\".format(label_batch))\n",
    "  print(\"features:\")\n",
    "  for key, value in feature_batch.items():\n",
    "    print(\"  {!r:20s}: {}\".format(key, value))"
   ]
  },
  {
   "cell_type": "markdown",
   "id": "2bc5d5fc-c187-41ae-a9fa-b3815832816d",
   "metadata": {},
   "source": [
    "You can use the `select_columns` argument if you only need a subset of columns."
   ]
  },
  {
   "cell_type": "code",
   "execution_count": 52,
   "id": "b9eecf51-fa5a-42b8-a14d-cb74c04b1554",
   "metadata": {},
   "outputs": [],
   "source": [
    "titanic_batches = tf.data.experimental.make_csv_dataset(\n",
    "    titanic_file, batch_size=4,\n",
    "    label_name=\"survived\", select_columns=['class', 'fare', 'survived'])"
   ]
  },
  {
   "cell_type": "code",
   "execution_count": 53,
   "id": "7a52adc9-8ca4-4296-9dce-015505630b61",
   "metadata": {},
   "outputs": [
    {
     "name": "stdout",
     "output_type": "stream",
     "text": [
      "'survived': [0 0 0 1]\n",
      "  'fare'              : [ 30.       8.6625  33.     512.3292]\n",
      "  'class'             : [b'First' b'Third' b'Second' b'First']\n"
     ]
    },
    {
     "name": "stderr",
     "output_type": "stream",
     "text": [
      "2024-04-24 07:31:34.310373: W tensorflow/core/framework/local_rendezvous.cc:404] Local rendezvous is aborting with status: OUT_OF_RANGE: End of sequence\n"
     ]
    }
   ],
   "source": [
    "for feature_batch, label_batch in titanic_batches.take(1):\n",
    "  print(\"'survived': {}\".format(label_batch))\n",
    "  for key, value in feature_batch.items():\n",
    "    print(\"  {!r:20s}: {}\".format(key, value))"
   ]
  },
  {
   "cell_type": "markdown",
   "id": "4abaa72b-2143-4016-935e-df70258a8e2e",
   "metadata": {},
   "source": [
    "---"
   ]
  },
  {
   "cell_type": "markdown",
   "id": "71f12257-5326-41db-8b83-3b5b813e83e4",
   "metadata": {},
   "source": [
    "### (`tf.data.experimental.CsvDataset`)\n",
    "There is also a lower-level [`experimental.CsvDataset`](https://www.tensorflow.org/api_docs/python/tf/data/experimental/CsvDataset) class which provides finer grained control. It does not support column type inference. Instead you must specify the type of each column."
   ]
  },
  {
   "cell_type": "code",
   "execution_count": 54,
   "id": "f2a263f0-a8aa-4401-9d3f-2f93cc002bec",
   "metadata": {},
   "outputs": [
    {
     "name": "stdout",
     "output_type": "stream",
     "text": [
      "[0, b'male', 22.0, 1, 0, 7.25, b'Third', b'unknown', b'Southampton', b'n']\n",
      "[1, b'female', 38.0, 1, 0, 71.2833, b'First', b'C', b'Cherbourg', b'n']\n",
      "[1, b'female', 26.0, 0, 0, 7.925, b'Third', b'unknown', b'Southampton', b'y']\n",
      "[1, b'female', 35.0, 1, 0, 53.1, b'First', b'C', b'Southampton', b'n']\n",
      "[0, b'male', 28.0, 0, 0, 8.4583, b'Third', b'unknown', b'Queenstown', b'y']\n",
      "[0, b'male', 2.0, 3, 1, 21.075, b'Third', b'unknown', b'Southampton', b'n']\n",
      "[1, b'female', 27.0, 0, 2, 11.1333, b'Third', b'unknown', b'Southampton', b'n']\n",
      "[1, b'female', 14.0, 1, 0, 30.0708, b'Second', b'unknown', b'Cherbourg', b'n']\n",
      "[1, b'female', 4.0, 1, 1, 16.7, b'Third', b'G', b'Southampton', b'n']\n",
      "[0, b'male', 20.0, 0, 0, 8.05, b'Third', b'unknown', b'Southampton', b'y']\n"
     ]
    },
    {
     "name": "stderr",
     "output_type": "stream",
     "text": [
      "2024-04-24 07:31:34.320811: W tensorflow/core/framework/local_rendezvous.cc:404] Local rendezvous is aborting with status: OUT_OF_RANGE: End of sequence\n"
     ]
    }
   ],
   "source": [
    "titanic_types  = [tf.int32, tf.string, tf.float32, tf.int32, tf.int32, tf.float32, tf.string, tf.string, tf.string, tf.string]\n",
    "dataset = tf.data.experimental.CsvDataset(titanic_file, titanic_types , header=True)\n",
    "\n",
    "for line in dataset.take(10):  # line is a tuple\n",
    "  print([item.numpy() for item in line])"
   ]
  },
  {
   "cell_type": "markdown",
   "id": "f6499477-da87-4a00-84e6-095975ac49fe",
   "metadata": {},
   "source": [
    "---\n",
    "If some columns are empty, this low-level interface allows you to provide default values instead of column types."
   ]
  },
  {
   "cell_type": "code",
   "execution_count": 55,
   "id": "fadf052e-759a-4b90-9062-c2fc019d54f2",
   "metadata": {},
   "outputs": [
    {
     "name": "stdout",
     "output_type": "stream",
     "text": [
      "Overwriting missing.csv\n"
     ]
    }
   ],
   "source": [
    "%%writefile missing.csv\n",
    "1,2,3,4\n",
    ",2,3,4\n",
    "1,,3,4\n",
    "1,2,,4\n",
    "1,2,3,\n",
    ",,,"
   ]
  },
  {
   "cell_type": "code",
   "execution_count": 56,
   "id": "85116ced-b85f-4467-a09b-e1f0d94893c5",
   "metadata": {},
   "outputs": [],
   "source": [
    "# Creates a dataset that reads all of the records from two CSV files, each with\n",
    "# four float columns which may have missing values.\n",
    "\n",
    "record_defaults = [999,999,999,999]\n",
    "dataset = tf.data.experimental.CsvDataset(\"missing.csv\", record_defaults)"
   ]
  },
  {
   "cell_type": "code",
   "execution_count": 57,
   "id": "4c846737-ab49-4605-8484-0332ba80718f",
   "metadata": {},
   "outputs": [
    {
     "name": "stdout",
     "output_type": "stream",
     "text": [
      "(<tf.Tensor: shape=(), dtype=int32, numpy=1>, <tf.Tensor: shape=(), dtype=int32, numpy=2>, <tf.Tensor: shape=(), dtype=int32, numpy=3>, <tf.Tensor: shape=(), dtype=int32, numpy=4>)\n",
      "1\n"
     ]
    }
   ],
   "source": [
    "for line in dataset:  # line is a tuple\n",
    "    print(line)\n",
    "    for elem in line:  # elem is a tensor\n",
    "        print(elem.numpy())\n",
    "        break\n",
    "    break"
   ]
  },
  {
   "cell_type": "code",
   "execution_count": 58,
   "id": "06b326e1-ce20-4ec1-b909-02d5dbd1cd9b",
   "metadata": {},
   "outputs": [
    {
     "name": "stdout",
     "output_type": "stream",
     "text": [
      "[1 2 3 4]\n",
      "[999   2   3   4]\n",
      "[  1 999   3   4]\n",
      "[  1   2 999   4]\n",
      "[  1   2   3 999]\n",
      "[999 999 999 999]\n"
     ]
    },
    {
     "name": "stderr",
     "output_type": "stream",
     "text": [
      "2024-04-24 07:31:34.349482: W tensorflow/core/framework/local_rendezvous.cc:404] Local rendezvous is aborting with status: OUT_OF_RANGE: End of sequence\n"
     ]
    }
   ],
   "source": [
    "dataset = dataset.map(lambda *items: tf.stack(items))  # convert a tuple to a tensor\n",
    "for line in dataset:\n",
    "    print(line.numpy())"
   ]
  },
  {
   "cell_type": "markdown",
   "id": "f2680a38-4265-4f2a-a34a-a0999f017557",
   "metadata": {},
   "source": [
    "By default, a `CsvDataset` yields *every* column of *every* line of the file, which may not be desirable, for example if the file starts with a header line that should be ignored, or if some columns are not required in the input. These lines and fields can be removed with the `header` and `select_cols` arguments respectively."
   ]
  },
  {
   "cell_type": "code",
   "execution_count": 59,
   "id": "789c6df1-3934-4f7e-b3ec-84eef3aa26ca",
   "metadata": {},
   "outputs": [
    {
     "data": {
      "text/plain": [
       "<_MapDataset element_spec=TensorSpec(shape=(2,), dtype=tf.int32, name=None)>"
      ]
     },
     "execution_count": 59,
     "metadata": {},
     "output_type": "execute_result"
    }
   ],
   "source": [
    "# Creates a dataset that reads all of the records from two CSV files with\n",
    "# headers, extracting float data from columns 2 and 4.\n",
    "record_defaults = [999, 999] # Only provide defaults for the selected columns\n",
    "dataset = tf.data.experimental.CsvDataset(\"missing.csv\", record_defaults, select_cols=[1, 3])\n",
    "dataset = dataset.map(lambda *items: tf.stack(items))\n",
    "dataset"
   ]
  },
  {
   "cell_type": "code",
   "execution_count": 60,
   "id": "c9d03bf2-be0e-4dfb-b466-98cd60f13ed8",
   "metadata": {},
   "outputs": [
    {
     "name": "stdout",
     "output_type": "stream",
     "text": [
      "[2 4]\n",
      "[2 4]\n",
      "[999   4]\n",
      "[2 4]\n",
      "[  2 999]\n",
      "[999 999]\n"
     ]
    },
    {
     "name": "stderr",
     "output_type": "stream",
     "text": [
      "2024-04-24 07:31:34.369777: W tensorflow/core/framework/local_rendezvous.cc:404] Local rendezvous is aborting with status: OUT_OF_RANGE: End of sequence\n"
     ]
    }
   ],
   "source": [
    "for line in dataset:\n",
    "  print(line.numpy())"
   ]
  },
  {
   "cell_type": "markdown",
   "id": "c0bde499-4785-4f20-8446-7a750978b9e8",
   "metadata": {},
   "source": [
    "### Consuming sets of files (`tf.data.Dataset.list_files`)"
   ]
  },
  {
   "cell_type": "code",
   "execution_count": 61,
   "id": "f78feb38-d236-4b6f-a868-cd4ade360b0f",
   "metadata": {},
   "outputs": [],
   "source": [
    "flowers_root = tf.keras.utils.get_file(\n",
    "    'flower_photos',\n",
    "    'https://storage.googleapis.com/download.tensorflow.org/example_images/flower_photos.tgz',\n",
    "    untar=True)\n",
    "flowers_root = pathlib.Path(flowers_root)"
   ]
  },
  {
   "cell_type": "markdown",
   "id": "0c14b102-3e7c-40f5-86f2-df3a97ba218e",
   "metadata": {},
   "source": [
    "The root directory contains a directory for each class:"
   ]
  },
  {
   "cell_type": "code",
   "execution_count": 62,
   "id": "0f4c2d1b-2231-44c5-b7dd-9a4605e1fbd9",
   "metadata": {},
   "outputs": [
    {
     "name": "stdout",
     "output_type": "stream",
     "text": [
      "sunflowers\n",
      "daisy\n",
      "LICENSE.txt\n",
      "tulips\n",
      "dandelion\n",
      "roses\n"
     ]
    }
   ],
   "source": [
    "for item in flowers_root.glob(\"*\"):\n",
    "  print(item.name)"
   ]
  },
  {
   "cell_type": "code",
   "execution_count": 63,
   "id": "11a7b6e5-5ce1-4a86-8343-24b88b9e6a53",
   "metadata": {},
   "outputs": [
    {
     "name": "stdout",
     "output_type": "stream",
     "text": [
      "b'/home/appuser/.keras/datasets/flower_photos/dandelion/2479491210_98e41c4e7d_m.jpg'\n",
      "b'/home/appuser/.keras/datasets/flower_photos/daisy/2488902131_3417698611_n.jpg'\n",
      "b'/home/appuser/.keras/datasets/flower_photos/dandelion/7196409186_a59957ce0b_m.jpg'\n",
      "b'/home/appuser/.keras/datasets/flower_photos/tulips/13910544560_9140dd547e.jpg'\n",
      "b'/home/appuser/.keras/datasets/flower_photos/sunflowers/20658775992_1619cd0a9b_n.jpg'\n"
     ]
    },
    {
     "name": "stderr",
     "output_type": "stream",
     "text": [
      "2024-04-24 07:31:34.394807: W tensorflow/core/framework/local_rendezvous.cc:404] Local rendezvous is aborting with status: OUT_OF_RANGE: End of sequence\n"
     ]
    }
   ],
   "source": [
    "list_ds = tf.data.Dataset.list_files(str(flowers_root/'*/*'))\n",
    "\n",
    "for f in list_ds.take(5):\n",
    "  print(f.numpy())"
   ]
  },
  {
   "cell_type": "markdown",
   "id": "aa8eb36e-bd30-4ebe-927f-7af896a2f6c9",
   "metadata": {},
   "source": [
    "Read the data using the [`tf.io.read_file`](https://www.tensorflow.org/api_docs/python/tf/io/read_file) function and extract the label from the path, returning `(image, label)` pairs:"
   ]
  },
  {
   "cell_type": "code",
   "execution_count": 64,
   "id": "24dab2af-f10c-4409-b123-234928473df9",
   "metadata": {},
   "outputs": [],
   "source": [
    "def process_path(file_path):\n",
    "  label = tf.strings.split(file_path, os.sep)[-2]\n",
    "  return tf.io.read_file(file_path), label\n",
    "\n",
    "labeled_ds = list_ds.map(process_path)"
   ]
  },
  {
   "cell_type": "code",
   "execution_count": 65,
   "id": "0bb4bc47-7719-4a09-bea9-c5b9d51f6c6c",
   "metadata": {},
   "outputs": [
    {
     "name": "stdout",
     "output_type": "stream",
     "text": [
      "b'\\xff\\xd8\\xff\\xe0\\x00\\x10JFIF\\x00\\x01\\x01\\x01\\x00H\\x00H\\x00\\x00\\xff\\xe2\\x05XICC_PROFILE\\x00\\x01\\x01\\x00\\x00\\x05Happl\\x02 \\x00\\x00scnrRGB XYZ \\x07\\xd3\\x00\\x07\\x00\\x01\\x00\\x00\\x00\\x00\\x00\\x00acspAPPL\\x00\\x00\\x00\\x00appl\\x00\\x00\\x00\\x00\\x00\\x00\\x00\\x00\\x00\\x00'\n",
      "\n",
      "b'tulips'\n"
     ]
    },
    {
     "name": "stderr",
     "output_type": "stream",
     "text": [
      "2024-04-24 07:31:34.450375: W tensorflow/core/framework/local_rendezvous.cc:404] Local rendezvous is aborting with status: OUT_OF_RANGE: End of sequence\n"
     ]
    }
   ],
   "source": [
    "for image_raw, label_text in labeled_ds.take(1):\n",
    "  print(repr(image_raw.numpy()[:100]))\n",
    "  print()\n",
    "  print(label_text.numpy())"
   ]
  },
  {
   "cell_type": "code",
   "execution_count": null,
   "id": "dc38f369-7e3d-461f-98ff-4fe8fd5a05ac",
   "metadata": {},
   "outputs": [],
   "source": []
  }
 ],
 "metadata": {
  "kernelspec": {
   "display_name": "Python 3 (ipykernel)",
   "language": "python",
   "name": "python3"
  },
  "language_info": {
   "codemirror_mode": {
    "name": "ipython",
    "version": 3
   },
   "file_extension": ".py",
   "mimetype": "text/x-python",
   "name": "python",
   "nbconvert_exporter": "python",
   "pygments_lexer": "ipython3",
   "version": "3.11.0rc1"
  }
 },
 "nbformat": 4,
 "nbformat_minor": 5
}
