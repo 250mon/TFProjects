{
 "cells": [
  {
   "cell_type": "code",
   "execution_count": 1,
   "id": "3ad3759a-2ec5-4b65-94bf-3937f622a4e8",
   "metadata": {},
   "outputs": [
    {
     "name": "stderr",
     "output_type": "stream",
     "text": [
      "2024-04-16 11:15:25.579020: I tensorflow/core/platform/cpu_feature_guard.cc:210] This TensorFlow binary is optimized to use available CPU instructions in performance-critical operations.\n",
      "To enable the following instructions: AVX2 AVX512F AVX512_VNNI FMA, in other operations, rebuild TensorFlow with the appropriate compiler flags.\n"
     ]
    }
   ],
   "source": [
    "import tensorflow as tf\n",
    "import pathlib\n",
    "import os\n",
    "import matplotlib.pyplot as plt\n",
    "import pandas as pd\n",
    "import numpy as np\n",
    "\n",
    "np.set_printoptions(precision=4)"
   ]
  },
  {
   "cell_type": "code",
   "execution_count": 9,
   "id": "50a7e8ad-ffca-4bd0-84f6-919d39f10d8b",
   "metadata": {},
   "outputs": [
    {
     "data": {
      "text/plain": [
       "[PhysicalDevice(name='/physical_device:CPU:0', device_type='CPU'),\n",
       " PhysicalDevice(name='/physical_device:GPU:0', device_type='GPU')]"
      ]
     },
     "execution_count": 9,
     "metadata": {},
     "output_type": "execute_result"
    }
   ],
   "source": [
    "tf.config.list_physical_devices()"
   ]
  },
  {
   "cell_type": "markdown",
   "id": "a5a7122a-fa8c-430d-81e3-d2df0af113da",
   "metadata": {},
   "source": [
    "# Batching dataset elements"
   ]
  },
  {
   "cell_type": "markdown",
   "id": "0bfb8ddd-2348-4404-b843-76bdedede976",
   "metadata": {},
   "source": [
    "### Simple batching\n",
    "\n",
    "The simplest form of batching stacks `n` consecutive elements of a dataset into a single element. The [`Dataset.batch()`](https://www.tensorflow.org/api_docs/python/tf/data/Dataset#batch) transformation does exactly this, with the same constraints as the [`tf.stack()`](https://www.tensorflow.org/api_docs/python/tf/stack) operator, applied to each component of the elements: i.e., for each component *i*, all elements must have a tensor of the exact same shape."
   ]
  },
  {
   "cell_type": "code",
   "execution_count": 2,
   "id": "e21aad3f-b5f8-4417-a95c-abb9b3e56999",
   "metadata": {},
   "outputs": [
    {
     "name": "stdout",
     "output_type": "stream",
     "text": [
      "[array([0, 1, 2, 3]), array([ 0, -1, -2, -3])]\n",
      "[array([4, 5, 6, 7]), array([-4, -5, -6, -7])]\n",
      "[array([ 8,  9, 10, 11]), array([ -8,  -9, -10, -11])]\n",
      "[array([12, 13, 14, 15]), array([-12, -13, -14, -15])]\n"
     ]
    },
    {
     "name": "stderr",
     "output_type": "stream",
     "text": [
      "2024-04-16 11:15:28.960381: I external/local_xla/xla/stream_executor/cuda/cuda_executor.cc:998] successful NUMA node read from SysFS had negative value (-1), but there must be at least one NUMA node, so returning NUMA node zero. See more at https://github.com/torvalds/linux/blob/v6.0/Documentation/ABI/testing/sysfs-bus-pci#L344-L355\n",
      "2024-04-16 11:15:28.964079: I external/local_xla/xla/stream_executor/cuda/cuda_executor.cc:998] successful NUMA node read from SysFS had negative value (-1), but there must be at least one NUMA node, so returning NUMA node zero. See more at https://github.com/torvalds/linux/blob/v6.0/Documentation/ABI/testing/sysfs-bus-pci#L344-L355\n",
      "2024-04-16 11:15:28.964182: I external/local_xla/xla/stream_executor/cuda/cuda_executor.cc:998] successful NUMA node read from SysFS had negative value (-1), but there must be at least one NUMA node, so returning NUMA node zero. See more at https://github.com/torvalds/linux/blob/v6.0/Documentation/ABI/testing/sysfs-bus-pci#L344-L355\n",
      "2024-04-16 11:15:28.965051: I external/local_xla/xla/stream_executor/cuda/cuda_executor.cc:998] successful NUMA node read from SysFS had negative value (-1), but there must be at least one NUMA node, so returning NUMA node zero. See more at https://github.com/torvalds/linux/blob/v6.0/Documentation/ABI/testing/sysfs-bus-pci#L344-L355\n",
      "2024-04-16 11:15:28.965130: I external/local_xla/xla/stream_executor/cuda/cuda_executor.cc:998] successful NUMA node read from SysFS had negative value (-1), but there must be at least one NUMA node, so returning NUMA node zero. See more at https://github.com/torvalds/linux/blob/v6.0/Documentation/ABI/testing/sysfs-bus-pci#L344-L355\n",
      "2024-04-16 11:15:28.965200: I external/local_xla/xla/stream_executor/cuda/cuda_executor.cc:998] successful NUMA node read from SysFS had negative value (-1), but there must be at least one NUMA node, so returning NUMA node zero. See more at https://github.com/torvalds/linux/blob/v6.0/Documentation/ABI/testing/sysfs-bus-pci#L344-L355\n",
      "2024-04-16 11:15:29.019204: I external/local_xla/xla/stream_executor/cuda/cuda_executor.cc:998] successful NUMA node read from SysFS had negative value (-1), but there must be at least one NUMA node, so returning NUMA node zero. See more at https://github.com/torvalds/linux/blob/v6.0/Documentation/ABI/testing/sysfs-bus-pci#L344-L355\n",
      "2024-04-16 11:15:29.019297: I external/local_xla/xla/stream_executor/cuda/cuda_executor.cc:998] successful NUMA node read from SysFS had negative value (-1), but there must be at least one NUMA node, so returning NUMA node zero. See more at https://github.com/torvalds/linux/blob/v6.0/Documentation/ABI/testing/sysfs-bus-pci#L344-L355\n",
      "2024-04-16 11:15:29.019369: I external/local_xla/xla/stream_executor/cuda/cuda_executor.cc:998] successful NUMA node read from SysFS had negative value (-1), but there must be at least one NUMA node, so returning NUMA node zero. See more at https://github.com/torvalds/linux/blob/v6.0/Documentation/ABI/testing/sysfs-bus-pci#L344-L355\n",
      "2024-04-16 11:15:29.019429: I tensorflow/core/common_runtime/gpu/gpu_device.cc:1928] Created device /job:localhost/replica:0/task:0/device:GPU:0 with 22304 MB memory:  -> device: 0, name: NVIDIA GeForce RTX 3090, pci bus id: 0000:01:00.0, compute capability: 8.6\n",
      "2024-04-16 11:15:29.186940: W tensorflow/core/framework/local_rendezvous.cc:404] Local rendezvous is aborting with status: OUT_OF_RANGE: End of sequence\n"
     ]
    }
   ],
   "source": [
    "inc_dataset = tf.data.Dataset.range(100)\n",
    "dec_dataset = tf.data.Dataset.range(0, -100, -1)\n",
    "dataset = tf.data.Dataset.zip((inc_dataset, dec_dataset))\n",
    "batched_dataset = dataset.batch(4)\n",
    "\n",
    "for batch in batched_dataset.take(4):\n",
    "  print([arr.numpy() for arr in batch])"
   ]
  },
  {
   "cell_type": "markdown",
   "id": "96497922-1a13-47e0-8d72-5379c777147b",
   "metadata": {},
   "source": [
    "While [`tf.data`](https://www.tensorflow.org/api_docs/python/tf/data) tries to propagate shape information, the default settings of [`Dataset.batch`](https://www.tensorflow.org/api_docs/python/tf/data/Dataset#batch) result in an unknown batch size because the last batch may not be full. Note the `None`s in the shape:"
   ]
  },
  {
   "cell_type": "code",
   "execution_count": 3,
   "id": "e9832acb-8dd9-4cb7-b6ed-2ca7ea2c587f",
   "metadata": {},
   "outputs": [
    {
     "data": {
      "text/plain": [
       "<_BatchDataset element_spec=(TensorSpec(shape=(None,), dtype=tf.int64, name=None), TensorSpec(shape=(None,), dtype=tf.int64, name=None))>"
      ]
     },
     "execution_count": 3,
     "metadata": {},
     "output_type": "execute_result"
    }
   ],
   "source": [
    "batched_dataset"
   ]
  },
  {
   "cell_type": "markdown",
   "id": "5cefb077-3861-445a-b39c-1e3327be3b0f",
   "metadata": {},
   "source": [
    "Use the `drop_remainder` argument to ignore that last batch, and get full shape propagation:"
   ]
  },
  {
   "cell_type": "code",
   "execution_count": 4,
   "id": "51d4a9ee-f25f-45fd-ab89-1e31204ac5c9",
   "metadata": {},
   "outputs": [
    {
     "data": {
      "text/plain": [
       "<_BatchDataset element_spec=(TensorSpec(shape=(7,), dtype=tf.int64, name=None), TensorSpec(shape=(7,), dtype=tf.int64, name=None))>"
      ]
     },
     "execution_count": 4,
     "metadata": {},
     "output_type": "execute_result"
    }
   ],
   "source": [
    "batched_dataset = dataset.batch(7, drop_remainder=True)\n",
    "batched_dataset"
   ]
  },
  {
   "cell_type": "markdown",
   "id": "fda8d7fe-dfa3-4523-a777-1da6c7bdcc07",
   "metadata": {},
   "source": [
    "### Batching tensors with padding\n",
    "\n",
    "The above recipe works for tensors that all have the same size. However, many models (including sequence models) work with input data that can have varying size (for example, sequences of different lengths). To handle this case, the [`Dataset.padded_batch`](https://www.tensorflow.org/api_docs/python/tf/data/Dataset#padded_batch) transformation enables you to batch tensors of different shapes by specifying one or more dimensions in which they may be padded."
   ]
  },
  {
   "cell_type": "code",
   "execution_count": 5,
   "id": "4f533e45-e456-41d0-a6c7-497341babbfb",
   "metadata": {},
   "outputs": [
    {
     "name": "stdout",
     "output_type": "stream",
     "text": [
      "[[0 0 0]\n",
      " [1 0 0]\n",
      " [2 2 0]\n",
      " [3 3 3]]\n",
      "\n",
      "[[4 4 4 4 0 0 0]\n",
      " [5 5 5 5 5 0 0]\n",
      " [6 6 6 6 6 6 0]\n",
      " [7 7 7 7 7 7 7]]\n",
      "\n"
     ]
    },
    {
     "name": "stderr",
     "output_type": "stream",
     "text": [
      "2024-04-16 11:34:05.397951: W tensorflow/core/framework/local_rendezvous.cc:404] Local rendezvous is aborting with status: OUT_OF_RANGE: End of sequence\n"
     ]
    }
   ],
   "source": [
    "dataset = tf.data.Dataset.range(100)\n",
    "dataset = dataset.map(lambda x: tf.fill([tf.cast(x, tf.int32)], x))\n",
    "dataset = dataset.padded_batch(4, padded_shapes=(None,))\n",
    "\n",
    "for batch in dataset.take(2):\n",
    "  print(batch.numpy())\n",
    "  print()"
   ]
  },
  {
   "cell_type": "markdown",
   "id": "9ce4aba2-0f8c-4b1b-9839-120ede4e0c33",
   "metadata": {},
   "source": [
    "The [`Dataset.padded_batch`](https://www.tensorflow.org/api_docs/python/tf/data/Dataset#padded_batch) transformation allows you to set different padding for each dimension of each component, and it may be variable-length (signified by `None` in the example above) or constant-length. It is also possible to override the padding value, which defaults to 0."
   ]
  },
  {
   "cell_type": "markdown",
   "id": "b3a996b8-3d8d-4c8a-9bef-80123f6a6fcc",
   "metadata": {},
   "source": [
    "# Training workflows"
   ]
  },
  {
   "cell_type": "markdown",
   "id": "19af24bf-4079-49ba-aa90-fe2d925afe36",
   "metadata": {},
   "source": [
    "### Processing multiple epochs\n",
    "\n",
    "The [`tf.data`](https://www.tensorflow.org/api_docs/python/tf/data) API offers two main ways to process multiple epochs of the same data.\n",
    "\n",
    "The simplest way to iterate over a dataset in multiple epochs is to use the [`Dataset.repeat()`](https://www.tensorflow.org/api_docs/python/tf/data/Dataset#repeat) transformation. First, create a dataset of titanic data:"
   ]
  },
  {
   "cell_type": "code",
   "execution_count": 6,
   "id": "a869f3cd-6793-49e0-a429-40090965bcc3",
   "metadata": {},
   "outputs": [
    {
     "name": "stdout",
     "output_type": "stream",
     "text": [
      "Downloading data from https://storage.googleapis.com/tf-datasets/titanic/train.csv\n",
      "\u001b[1m30874/30874\u001b[0m \u001b[32m━━━━━━━━━━━━━━━━━━━━\u001b[0m\u001b[37m\u001b[0m \u001b[1m0s\u001b[0m 0us/step\n"
     ]
    }
   ],
   "source": [
    "titanic_file = tf.keras.utils.get_file(\"train.csv\", \"https://storage.googleapis.com/tf-datasets/titanic/train.csv\")\n",
    "titanic_lines = tf.data.TextLineDataset(titanic_file)"
   ]
  },
  {
   "cell_type": "code",
   "execution_count": 28,
   "id": "4099137f-2f32-4af1-89e7-2a5f9e8a6094",
   "metadata": {},
   "outputs": [
    {
     "data": {
      "text/html": [
       "<div>\n",
       "<style scoped>\n",
       "    .dataframe tbody tr th:only-of-type {\n",
       "        vertical-align: middle;\n",
       "    }\n",
       "\n",
       "    .dataframe tbody tr th {\n",
       "        vertical-align: top;\n",
       "    }\n",
       "\n",
       "    .dataframe thead th {\n",
       "        text-align: right;\n",
       "    }\n",
       "</style>\n",
       "<table border=\"1\" class=\"dataframe\">\n",
       "  <thead>\n",
       "    <tr style=\"text-align: right;\">\n",
       "      <th></th>\n",
       "      <th>survived</th>\n",
       "      <th>sex</th>\n",
       "      <th>age</th>\n",
       "      <th>n_siblings_spouses</th>\n",
       "      <th>parch</th>\n",
       "      <th>fare</th>\n",
       "      <th>class</th>\n",
       "      <th>deck</th>\n",
       "      <th>embark_town</th>\n",
       "      <th>alone</th>\n",
       "    </tr>\n",
       "  </thead>\n",
       "  <tbody>\n",
       "    <tr>\n",
       "      <th>0</th>\n",
       "      <td>0</td>\n",
       "      <td>male</td>\n",
       "      <td>22.0</td>\n",
       "      <td>1</td>\n",
       "      <td>0</td>\n",
       "      <td>7.2500</td>\n",
       "      <td>Third</td>\n",
       "      <td>unknown</td>\n",
       "      <td>Southampton</td>\n",
       "      <td>n</td>\n",
       "    </tr>\n",
       "    <tr>\n",
       "      <th>1</th>\n",
       "      <td>1</td>\n",
       "      <td>female</td>\n",
       "      <td>38.0</td>\n",
       "      <td>1</td>\n",
       "      <td>0</td>\n",
       "      <td>71.2833</td>\n",
       "      <td>First</td>\n",
       "      <td>C</td>\n",
       "      <td>Cherbourg</td>\n",
       "      <td>n</td>\n",
       "    </tr>\n",
       "    <tr>\n",
       "      <th>2</th>\n",
       "      <td>1</td>\n",
       "      <td>female</td>\n",
       "      <td>26.0</td>\n",
       "      <td>0</td>\n",
       "      <td>0</td>\n",
       "      <td>7.9250</td>\n",
       "      <td>Third</td>\n",
       "      <td>unknown</td>\n",
       "      <td>Southampton</td>\n",
       "      <td>y</td>\n",
       "    </tr>\n",
       "  </tbody>\n",
       "</table>\n",
       "</div>"
      ],
      "text/plain": [
       "   survived     sex   age  n_siblings_spouses  parch     fare  class     deck  \\\n",
       "0         0    male  22.0                   1      0   7.2500  Third  unknown   \n",
       "1         1  female  38.0                   1      0  71.2833  First        C   \n",
       "2         1  female  26.0                   0      0   7.9250  Third  unknown   \n",
       "\n",
       "   embark_town alone  \n",
       "0  Southampton     n  \n",
       "1    Cherbourg     n  \n",
       "2  Southampton     y  "
      ]
     },
     "execution_count": 28,
     "metadata": {},
     "output_type": "execute_result"
    }
   ],
   "source": [
    "df = pd.read_csv(titanic_file)\n",
    "df.head(3)"
   ]
  },
  {
   "cell_type": "code",
   "execution_count": 31,
   "id": "75c51615-0b5f-49d2-b3e3-1b2debe2b0ef",
   "metadata": {},
   "outputs": [
    {
     "data": {
      "text/plain": [
       "4.8984375"
      ]
     },
     "execution_count": 31,
     "metadata": {},
     "output_type": "execute_result"
    }
   ],
   "source": [
    "df.shape[0] / 128"
   ]
  },
  {
   "cell_type": "markdown",
   "id": "67fe70f4-0318-4d1f-a177-4264cb1ea30d",
   "metadata": {},
   "source": [
    "meaning that it can produce a size of 4.9 batches without repeat"
   ]
  },
  {
   "cell_type": "code",
   "execution_count": 7,
   "id": "bb0a2a02-f72d-4fb3-b2d0-2e51b76474ab",
   "metadata": {},
   "outputs": [],
   "source": [
    "def plot_batch_sizes(ds):\n",
    "  batch_sizes = [batch.shape[0] for batch in ds]\n",
    "  plt.bar(range(len(batch_sizes)), batch_sizes)\n",
    "  plt.xlabel('Batch number')\n",
    "  plt.ylabel('Batch size')"
   ]
  },
  {
   "cell_type": "markdown",
   "id": "4c67b481-a718-456c-a2f7-db3847d625df",
   "metadata": {},
   "source": [
    "Applying the [`Dataset.repeat()`](https://www.tensorflow.org/api_docs/python/tf/data/Dataset#repeat) transformation with no arguments will repeat the input indefinitely.\n",
    "\n",
    "The [`Dataset.repeat`](https://www.tensorflow.org/api_docs/python/tf/data/Dataset#repeat) transformation concatenates its arguments without signaling the end of one epoch and the beginning of the next epoch. Because of this a [`Dataset.batch`](https://www.tensorflow.org/api_docs/python/tf/data/Dataset#batch) applied after [`Dataset.repeat`](https://www.tensorflow.org/api_docs/python/tf/data/Dataset#repeat) will yield batches that straddle epoch boundaries"
   ]
  },
  {
   "cell_type": "code",
   "execution_count": 8,
   "id": "c14b9537-6113-4fd6-83d7-a83f56a80d33",
   "metadata": {},
   "outputs": [
    {
     "name": "stderr",
     "output_type": "stream",
     "text": [
      "2024-04-16 21:52:01.134125: W tensorflow/core/framework/local_rendezvous.cc:404] Local rendezvous is aborting with status: OUT_OF_RANGE: End of sequence\n"
     ]
    },
    {
     "data": {
      "image/png": "[encoded data removed]",
      "text/plain": [
       "<Figure size 640x480 with 1 Axes>"
      ]
     },
     "metadata": {},
     "output_type": "display_data"
    }
   ],
   "source": [
    "titanic_batches = titanic_lines.repeat(3).batch(128)\n",
    "plot_batch_sizes(titanic_batches)"
   ]
  },
  {
   "cell_type": "markdown",
   "id": "404746be-b883-4b64-8de0-9826a5b6b815",
   "metadata": {},
   "source": [
    "If you need clear epoch separation, put [`Dataset.batch`](https://www.tensorflow.org/api_docs/python/tf/data/Dataset#batch) before the repeat:"
   ]
  },
  {
   "cell_type": "code",
   "execution_count": 10,
   "id": "330c7d25-f2ce-4b8e-8a5a-b84a72d3a324",
   "metadata": {},
   "outputs": [
    {
     "name": "stderr",
     "output_type": "stream",
     "text": [
      "2024-04-16 21:55:26.783911: W tensorflow/core/framework/local_rendezvous.cc:404] Local rendezvous is aborting with status: OUT_OF_RANGE: End of sequence\n"
     ]
    },
    {
     "data": {
      "image/png": "[encoded data removed]",
      "text/plain": [
       "<Figure size 640x480 with 1 Axes>"
      ]
     },
     "metadata": {},
     "output_type": "display_data"
    }
   ],
   "source": [
    "titanic_batches = titanic_lines.batch(128).repeat(3)\n",
    "\n",
    "plot_batch_sizes(titanic_batches)"
   ]
  },
  {
   "cell_type": "markdown",
   "id": "a860a170-3f67-4ca1-a64b-040066056458",
   "metadata": {},
   "source": [
    "If you would like to perform a custom computation (for example, to collect statistics) at the end of each epoch then it's simplest to restart the dataset iteration on each epoch:"
   ]
  },
  {
   "cell_type": "code",
   "execution_count": 11,
   "id": "6f2852f1-5889-46a0-af08-871d75a1578c",
   "metadata": {},
   "outputs": [
    {
     "name": "stdout",
     "output_type": "stream",
     "text": [
      "(128,)\n",
      "(128,)\n",
      "(128,)\n",
      "(128,)\n",
      "(116,)\n",
      "End of epoch:  0\n",
      "(128,)\n",
      "(128,)\n",
      "(128,)\n",
      "(128,)\n",
      "(116,)\n",
      "End of epoch:  1\n",
      "(128,)\n",
      "(128,)\n",
      "(128,)\n",
      "(128,)\n",
      "(116,)\n",
      "End of epoch:  2\n"
     ]
    },
    {
     "name": "stderr",
     "output_type": "stream",
     "text": [
      "2024-04-16 21:57:00.172074: W tensorflow/core/framework/local_rendezvous.cc:404] Local rendezvous is aborting with status: OUT_OF_RANGE: End of sequence\n",
      "2024-04-16 21:57:00.178153: W tensorflow/core/framework/local_rendezvous.cc:404] Local rendezvous is aborting with status: OUT_OF_RANGE: End of sequence\n",
      "2024-04-16 21:57:00.182236: W tensorflow/core/framework/local_rendezvous.cc:404] Local rendezvous is aborting with status: OUT_OF_RANGE: End of sequence\n"
     ]
    }
   ],
   "source": [
    "epochs = 3\n",
    "dataset = titanic_lines.batch(128)\n",
    "\n",
    "for epoch in range(epochs):\n",
    "  for batch in dataset:\n",
    "    print(batch.shape)\n",
    "  print(\"End of epoch: \", epoch)"
   ]
  },
  {
   "cell_type": "markdown",
   "id": "217224d9-5e3b-4ee1-9f3d-35d6f06802ad",
   "metadata": {},
   "source": [
    "### Randomly shuffling input data\n",
    "\n",
    "The [`Dataset.shuffle()`](https://www.tensorflow.org/api_docs/python/tf/data/Dataset#shuffle) transformation maintains a fixed-size buffer and chooses the next element uniformly at random from that buffer.\n",
    "\n",
    "**Note:** While large buffer_sizes shuffle more thoroughly, they can take a lot of memory, and significant time to fill. Consider using [`Dataset.interleave`](https://www.tensorflow.org/api_docs/python/tf/data/Dataset#interleave) across files if this becomes a problem.\n",
    "\n",
    "Add an index to the dataset so you can see the effect:"
   ]
  },
  {
   "cell_type": "markdown",
   "id": "fcbd96d6-cc47-4661-927b-45ecfc2853f0",
   "metadata": {},
   "source": [
    "***JY NOTE*** Every time a batch of data was consumed from the buffer, the buffer is filled with the next new data from the full dataset. After that, a new batch of data selected randomly from the buffer."
   ]
  },
  {
   "cell_type": "code",
   "execution_count": 33,
   "id": "e15e052c-4b93-4caf-b1ab-74cf5c7a5ba8",
   "metadata": {},
   "outputs": [],
   "source": [
    "lines = tf.data.TextLineDataset(titanic_file)\n",
    "counter = tf.data.Dataset.counter()\n",
    "\n",
    "dataset = tf.data.Dataset.zip((counter, lines))"
   ]
  },
  {
   "cell_type": "code",
   "execution_count": 34,
   "id": "955833f6-c990-4d89-a643-d3461c481e84",
   "metadata": {},
   "outputs": [],
   "source": [
    "ba_dataset = dataset.batch(20)"
   ]
  },
  {
   "cell_type": "code",
   "execution_count": 45,
   "id": "e4e3528e-3137-4c50-8d33-76089f101caa",
   "metadata": {},
   "outputs": [
    {
     "name": "stdout",
     "output_type": "stream",
     "text": [
      "[ 0  1  2  3  4  5  6  7  8  9 10 11 12 13 14 15 16 17 18 19]\n",
      "[20 21 22 23 24 25 26 27 28 29 30 31 32 33 34 35 36 37 38 39]\n"
     ]
    },
    {
     "name": "stderr",
     "output_type": "stream",
     "text": [
      "2024-04-16 22:37:38.637040: W tensorflow/core/framework/local_rendezvous.cc:404] Local rendezvous is aborting with status: OUT_OF_RANGE: End of sequence\n"
     ]
    }
   ],
   "source": [
    "for n, line_batch in ba_dataset.take(2):\n",
    "    print(n.numpy())"
   ]
  },
  {
   "cell_type": "code",
   "execution_count": 37,
   "id": "2bd9891e-9e00-45d2-98d3-fd5779520769",
   "metadata": {},
   "outputs": [
    {
     "data": {
      "text/plain": [
       "<_BatchDataset element_spec=(TensorSpec(shape=(None,), dtype=tf.int64, name=None), TensorSpec(shape=(None,), dtype=tf.string, name=None))>"
      ]
     },
     "execution_count": 37,
     "metadata": {},
     "output_type": "execute_result"
    }
   ],
   "source": [
    "sh_dataset = dataset.shuffle(buffer_size=100)\n",
    "sh_ba_dataset = sh_dataset.batch(20)\n",
    "sh_ba_dataset"
   ]
  },
  {
   "cell_type": "markdown",
   "id": "d8b00edd-5623-410f-917d-a6940acc0be4",
   "metadata": {},
   "source": [
    "Since the `buffer_size` is 100, and the batch size is 20, the first batch contains no elements with an index over 120."
   ]
  },
  {
   "cell_type": "code",
   "execution_count": 41,
   "id": "52f8ccb8-a10e-4d40-818e-54fcd42d638c",
   "metadata": {},
   "outputs": [
    {
     "name": "stdout",
     "output_type": "stream",
     "text": [
      "[ 32  52  63   2 103  36  82  79  60  10  74  38  67  43  78  15  89 105\n",
      "  56 108]\n"
     ]
    }
   ],
   "source": [
    "n,line_batch = next(iter(sh_ba_dataset))\n",
    "print(n.numpy())"
   ]
  },
  {
   "cell_type": "code",
   "execution_count": 47,
   "id": "6694941a-f3eb-4c95-a1bd-6245e5f0b714",
   "metadata": {},
   "outputs": [
    {
     "name": "stdout",
     "output_type": "stream",
     "text": [
      "[ 36   3  27  23  78   5  61  90  17 105 106   4 103  64  43  15  89  72\n",
      "  19  99]\n",
      "[ 46 117  37  33 107  79  12  88 102 113  48  87  83 100   9 128  53  60\n",
      "  82 109]\n",
      "[ 70  57  13 104 110  47  41 122  11  98 131   8 145  50  84   0  52  39\n",
      " 149 127]\n",
      "[129 156 133 148  31  65 142  26 116  29 139  34 125  56  18 115 174 146\n",
      "   7  76]\n",
      "[177  16  66 159 121 124  71  73  44   1 111  10 151  68  92 189  32 112\n",
      " 140  77]\n"
     ]
    },
    {
     "name": "stderr",
     "output_type": "stream",
     "text": [
      "2024-04-16 22:38:13.194883: W tensorflow/core/framework/local_rendezvous.cc:404] Local rendezvous is aborting with status: OUT_OF_RANGE: End of sequence\n"
     ]
    }
   ],
   "source": [
    "for n, line_batch in sh_ba_dataset.take(5):\n",
    "    print(n.numpy())"
   ]
  },
  {
   "cell_type": "markdown",
   "id": "6806e838-81b1-400a-ba03-6995dacaa43e",
   "metadata": {},
   "source": [
    "---\n",
    "#### repeat and shuffle"
   ]
  },
  {
   "cell_type": "markdown",
   "id": "051b58ba-a621-4bca-a318-7ea8b9a7455c",
   "metadata": {},
   "source": [
    "As with [`Dataset.batch`](https://www.tensorflow.org/api_docs/python/tf/data/Dataset#batch) the order relative to [`Dataset.repeat`](https://www.tensorflow.org/api_docs/python/tf/data/Dataset#repeat) matters.\n",
    "\n",
    "[`Dataset.shuffle`](https://www.tensorflow.org/api_docs/python/tf/data/Dataset#shuffle) doesn't signal the end of an epoch until the shuffle buffer is empty. So a shuffle placed before a repeat will show every element of one epoch before moving to the next:"
   ]
  },
  {
   "cell_type": "code",
   "execution_count": 42,
   "id": "1bd6041c-5d28-4678-8194-7b19b64bdb4f",
   "metadata": {},
   "outputs": [
    {
     "name": "stdout",
     "output_type": "stream",
     "text": [
      "Here are the item ID's near the epoch boundary:\n",
      "\n",
      "[470 612 531 622 480 577 549 578 625 624]\n",
      "[533 523 532 566 610 592 570 124 627 432]\n",
      "[572 504 510 585 598 586 535 591]\n",
      "[51 38 60 45 28 56 78 15 77 37]\n",
      "[ 87   7  11  93 110  55 106  70 103  22]\n"
     ]
    },
    {
     "name": "stderr",
     "output_type": "stream",
     "text": [
      "2024-04-16 22:34:29.670297: W tensorflow/core/framework/local_rendezvous.cc:404] Local rendezvous is aborting with status: OUT_OF_RANGE: End of sequence\n"
     ]
    }
   ],
   "source": [
    "dataset = tf.data.Dataset.zip((counter, lines))\n",
    "shuffled = dataset.shuffle(buffer_size=100).batch(10).repeat(2)\n",
    "\n",
    "print(\"Here are the item ID's near the epoch boundary:\\n\")\n",
    "for n, line_batch in shuffled.skip(60).take(5):\n",
    "  print(n.numpy())"
   ]
  },
  {
   "cell_type": "code",
   "execution_count": 43,
   "id": "36b14f90-0c8c-4438-b95f-842413891f91",
   "metadata": {},
   "outputs": [
    {
     "name": "stderr",
     "output_type": "stream",
     "text": [
      "2024-04-16 22:34:49.705473: W tensorflow/core/framework/local_rendezvous.cc:404] Local rendezvous is aborting with status: OUT_OF_RANGE: End of sequence\n"
     ]
    },
    {
     "data": {
      "text/plain": [
       "<matplotlib.legend.Legend at 0x78f0df245910>"
      ]
     },
     "execution_count": 43,
     "metadata": {},
     "output_type": "execute_result"
    },
    {
     "data": {
      "image/png": "[encoded data removed]",
      "text/plain": [
       "<Figure size 640x480 with 1 Axes>"
      ]
     },
     "metadata": {},
     "output_type": "display_data"
    }
   ],
   "source": [
    "shuffle_repeat = [n.numpy().mean() for n, line_batch in shuffled]\n",
    "plt.plot(shuffle_repeat, label=\"shuffle().repeat()\")\n",
    "plt.ylabel(\"Mean item ID\")\n",
    "plt.legend()"
   ]
  },
  {
   "cell_type": "code",
   "execution_count": 44,
   "id": "5a28d9fd-699a-4e8a-ad76-d53fd52f8208",
   "metadata": {},
   "outputs": [
    {
     "name": "stdout",
     "output_type": "stream",
     "text": [
      "Here are the item ID's near the epoch boundary:\n",
      "\n",
      "[428 608 323   3  24  13   5 519  19 574]\n",
      "[457  10 609 607 446 421 616 506  28  22]\n",
      "[  0  18 523  36 552 577   6 277  31 307]\n",
      "[626  34 561  38 465 622  33 543 524  54]\n",
      "[612 360  25 306   8  41 578 559 570 560]\n",
      "[ 20  51  35 545 196  53 598  68  66  16]\n",
      "[ 14 527 464 451  83  73  29 535  87 508]\n",
      "[531  69   2  64  37  79  17  86  30 556]\n",
      "[476 470  82  94  50  42 623  92  15  39]\n",
      "[575  81   1 498 565 105  49 606  47  48]\n",
      "[ 62 107  23 104 115 592  70 332 617  57]\n",
      "[114  90 120  97 625 136  75  59 108 134]\n",
      "[ 21 596  88  98  74  32 127 141 583 597]\n",
      "[ 58 135 109 125  40 586 152  65  99 140]\n",
      "[147 103 148 138 202 111  67  78 611 106]\n"
     ]
    },
    {
     "name": "stderr",
     "output_type": "stream",
     "text": [
      "2024-04-16 22:34:59.370508: W tensorflow/core/framework/local_rendezvous.cc:404] Local rendezvous is aborting with status: OUT_OF_RANGE: End of sequence\n"
     ]
    }
   ],
   "source": [
    "dataset = tf.data.Dataset.zip((counter, lines))\n",
    "shuffled = dataset.repeat(2).shuffle(buffer_size=100).batch(10)\n",
    "\n",
    "print(\"Here are the item ID's near the epoch boundary:\\n\")\n",
    "for n, line_batch in shuffled.skip(55).take(15):\n",
    "  print(n.numpy())"
   ]
  },
  {
   "cell_type": "code",
   "execution_count": 48,
   "id": "ea421b73-d901-4132-ac2f-31a3a3b7e681",
   "metadata": {},
   "outputs": [
    {
     "name": "stderr",
     "output_type": "stream",
     "text": [
      "2024-04-16 22:38:24.189893: W tensorflow/core/framework/local_rendezvous.cc:404] Local rendezvous is aborting with status: OUT_OF_RANGE: End of sequence\n"
     ]
    },
    {
     "data": {
      "text/plain": [
       "<matplotlib.legend.Legend at 0x78f0df2afc50>"
      ]
     },
     "execution_count": 48,
     "metadata": {},
     "output_type": "execute_result"
    },
    {
     "data": {
      "image/png": "[encoded data removed]",
      "text/plain": [
       "<Figure size 640x480 with 1 Axes>"
      ]
     },
     "metadata": {},
     "output_type": "display_data"
    }
   ],
   "source": [
    "repeat_shuffle = [n.numpy().mean() for n, line_batch in shuffled]\n",
    "\n",
    "plt.plot(shuffle_repeat, label=\"shuffle().repeat()\")\n",
    "plt.plot(repeat_shuffle, label=\"repeat().shuffle()\")\n",
    "plt.ylabel(\"Mean item ID\")\n",
    "plt.legend()"
   ]
  },
  {
   "cell_type": "code",
   "execution_count": null,
   "id": "7bce36ea-d85f-4638-ad4d-eca9b6d8cfcf",
   "metadata": {},
   "outputs": [],
   "source": [
    "\n"
   ]
  }
 ],
 "metadata": {
  "kernelspec": {
   "display_name": "Python 3 (ipykernel)",
   "language": "python",
   "name": "python3"
  },
  "language_info": {
   "codemirror_mode": {
    "name": "ipython",
    "version": 3
   },
   "file_extension": ".py",
   "mimetype": "text/x-python",
   "name": "python",
   "nbconvert_exporter": "python",
   "pygments_lexer": "ipython3",
   "version": "3.11.0rc1"
  }
 },
 "nbformat": 4,
 "nbformat_minor": 5
}
